{
 "cells": [
  {
   "cell_type": "markdown",
   "id": "9a844847",
   "metadata": {},
   "source": [
    "# Diseño Completamente al Azar (DCA)\n",
    "\n",
    "## Resumen General\n",
    "\n",
    "El **Diseño Completamente al Azar (DCA)** se emplea cuando las unidades experimentales son homogéneas y pueden ser asignadas aleatoriamente a tratamientos sin necesidad de bloques. Se aplica frecuentemente en condiciones controladas, como laboratorios.\n",
    "\n",
    "## Modelo Estadístico\n",
    "\n",
    "El modelo estadístico para el DCA es:\n",
    "\n",
    "$$\n",
    "Y_{ij} = \\mu + \\tau_i + \\epsilon_{ij}\n",
    "$$\n",
    "\n",
    "- $Y_{ij}$: Respuesta observada para el tratamiento $i$ en la repetición $j$\n",
    "- $\\mu$: Media general\n",
    "- $\\tau_i$: Efecto del tratamiento $i$\n",
    "- $\\epsilon_{ij}$: Error aleatorio, con $E(\\epsilon_{ij}) = 0$, $Var(\\epsilon_{ij}) = \\sigma^2$\n",
    "\n",
    "## Hipótesis\n",
    "\n",
    "- **$H_0$**: $\\tau_1 = \\tau_2 = \\dots = \\tau_t$ (todos los tratamientos tienen el mismo efecto)\n",
    "- **$H_a$**: Al menos uno de los $\\tau_i$ es distinto\n",
    "\n",
    "## Supuestos del Modelo\n",
    "\n",
    "| **SUPUESTO**                  | **PRUEBA**                          | **REGLA DE DECISIÓN**                                      |\n",
    "|------------------------------|-------------------------------------|-------------------------------------------------------------|\n",
    "| Normalidad de residuos       | Shapiro-Wilk / Kolmogorov-Smirnov  | $p > \\alpha \\Rightarrow$ residuos normales                 |\n",
    "| Homogeneidad de varianzas    | Levene                              | $p > \\alpha \\Rightarrow$ varianzas homogéneas              |\n",
    "| Independencia de residuos    | Durbin-Watson                       | Estadístico $DW \\approx 2 \\Rightarrow$ residuos independientes |\n",
    "\n",
    "## ANOVA\n",
    "\n",
    "\\[\n",
    "\\begin{array}{|c|c|c|c|c|}\n",
    "\\hline\n",
    "\\textbf{Fuente} & \\textbf{GL} & \\textbf{Suma de Cuadrados (SC)} & \\textbf{Cuadrado Medio (CM)} & \\textbf{F} \\\\\n",
    "\\hline\n",
    "\\text{Tratamientos} & t - 1 & SC_{\\text{trat}} = \\sum_{i=1}^t \\frac{Y_{i.}^2}{r_i} - \\frac{Y_{..}^2}{N} & CM_{\\text{trat}} = \\frac{SC_{\\text{trat}}}{t - 1} & F = \\frac{CM_{\\text{trat}}}{CM_{\\text{error}}} \\\\\n",
    "\\hline\n",
    "\\text{Error} & \\sum r_i - t & SC_{\\text{error}} = SC_{\\text{total}} - SC_{\\text{trat}} & CM_{\\text{error}} = \\frac{SC_{\\text{error}}}{GL_{\\text{error}}} & \\\\\n",
    "\\hline\n",
    "\\text{Total} & N - 1 & SC_{\\text{total}} = \\sum_{i=1}^t \\sum_{j=1}^{r_i} Y_{ij}^2 - \\frac{Y_{..}^2}{N} & & \\\\\n",
    "\\hline\n",
    "\\end{array}\n",
    "\\]\n",
    "\n",
    "Donde:\n",
    "\n",
    "- $t$: número de tratamientos\n",
    "- $r_i$: número de repeticiones por tratamiento $i$\n",
    "- $Y_{i.}$: suma total del tratamiento $i$\n",
    "- $Y_{..}$: suma total de todos los tratamientos\n",
    "- $N$: total de observaciones\n",
    "\n",
    "## Regla de Decisión\n",
    "\n",
    "- Si $F_{\\text{calc}} > F_{\\text{tab}}$, entonces **rechazar** $H_0$\n",
    "- Equivalente: Si $p$-valor $< \\alpha$, entonces **rechazar** $H_0$\n",
    "\n",
    "## Pruebas Post-hoc (Comparaciones Múltiples)\n",
    "\n",
    "### 1. LSD de Fisher (Diseño balanceado)\n",
    "\n",
    "$$\n",
    "LSD = t_{\\alpha/2, \\, GL_{\\text{error}}} \\cdot \\sqrt{MSE \\left( \\frac{1}{n_i} + \\frac{1}{n_j} \\right)}\n",
    "$$\n",
    "\n",
    "### 2. Tukey\n",
    "\n",
    "$$\n",
    "HSD = q_{\\alpha}(k, \\, GL_{\\text{error}}) \\cdot \\sqrt{\\frac{MSE}{n}}\n",
    "$$\n",
    "\n",
    "### 3. Scheffé\n",
    "\n",
    "$$\n",
    "S = \\sqrt{(k - 1) \\cdot F_{\\alpha}(k - 1, GL_{\\text{error}}) \\cdot \\frac{MSE}{n}}\n",
    "$$\n"
   ]
  },
  {
   "cell_type": "markdown",
   "id": "a07cc5e2",
   "metadata": {},
   "source": [
    "CODIGO EN PYTHON "
   ]
  },
  {
   "cell_type": "markdown",
   "id": "342985fb",
   "metadata": {},
   "source": [
    "ANALISIS DEL EXPERIMENTO"
   ]
  },
  {
   "cell_type": "code",
   "execution_count": 79,
   "id": "579f7a7e",
   "metadata": {},
   "outputs": [
    {
     "name": "stdout",
     "output_type": "stream",
     "text": [
      "\n",
      "Resumen del Experimento:\n",
      "Factor: Crecimeinto de la planta\n",
      "Niveles del factor: ['tratamientos']\n",
      "Tratamientos: ['T_1', 'T_2', 'T_3', 'T_4']\n",
      "Unidad experimental: Planta Pinus Radiata\n",
      "Variable de respuesta: Tamaño en Metros\n"
     ]
    }
   ],
   "source": [
    "# Ingresar los datos del experimento\n",
    "factor = \"Crecimeinto de la planta\"\n",
    "niveles = [\"tratamientos\"]\n",
    "tratamientos_inp = [\"T_1\",\"T_2\",\"T_3\",\"T_4\"]\n",
    "unidad_experimental = \"Planta Pinus Radiata\"\n",
    "variable_respuesta = \"Tamaño en Metros\" \n",
    "\n",
    "# Mostrar resumen\n",
    "print(\"\\nResumen del Experimento:\")\n",
    "print(f\"Factor: {factor}\")\n",
    "print(f\"Niveles del factor: {niveles}\")\n",
    "print(f\"Tratamientos: {tratamientos_inp}\")\n",
    "print(f\"Unidad experimental: {unidad_experimental}\")\n",
    "print(f\"Variable de respuesta: {variable_respuesta}\")\n",
    "\n",
    "\n",
    "# Almacenar en un diccionario para usarlo después\n",
    "experimento = {\n",
    "    \"factor\": factor,\n",
    "    \"niveles\": niveles,\n",
    "    \"tratamientos\": tratamientos_inp,\n",
    "    \"unidad_experimental\": unidad_experimental,\n",
    "    \"variable_respuesta\": variable_respuesta\n",
    "}\n",
    "\n"
   ]
  },
  {
   "cell_type": "markdown",
   "id": "c0ec6a0d",
   "metadata": {},
   "source": [
    "Paso 1 : Importar librerías"
   ]
  },
  {
   "cell_type": "code",
   "execution_count": 80,
   "id": "632835b1",
   "metadata": {},
   "outputs": [],
   "source": [
    "\n",
    "# Librerias\n",
    "import pandas as pd\n",
    "import statsmodels.api as sm\n",
    "from statsmodels.formula.api import ols\n",
    "from scipy.stats import shapiro\n",
    "from scipy.stats import levene\n",
    "from statsmodels.stats.stattools import durbin_watson\n",
    "from statsmodels.stats.multicomp import pairwise_tukeyhsd\n",
    "import matplotlib.pyplot as plt\n",
    "from statsmodels.graphics.regressionplots import influence_plot\n",
    "import seaborn as sns\n",
    "import numpy as np\n",
    "from statsmodels.stats.multicomp import pairwise_tukeyhsd\n",
    "import numpy as np\n",
    "import statsmodels.api as sm\n",
    "from statsmodels.stats.api import anova_lm\n",
    "from scipy.stats import f\n",
    "from scipy.stats import kstest\n",
    "from statsmodels.stats.anova import anova_lm\n",
    "from statsmodels.stats.libqsturng import psturng, qsturng\n",
    "from statsmodels.stats.multicomp import pairwise_tukeyhsd\n",
    "\n"
   ]
  },
  {
   "cell_type": "markdown",
   "id": "708a303d",
   "metadata": {},
   "source": [
    "Paso 2 : Insertar lo datos con los que se va a trabajar"
   ]
  },
  {
   "cell_type": "code",
   "execution_count": 81,
   "id": "438697ab",
   "metadata": {},
   "outputs": [
    {
     "name": "stdout",
     "output_type": "stream",
     "text": [
      "  Tratamiento  Factor\n",
      "0          T1    1.10\n",
      "1          T1    1.11\n",
      "2          T1    1.05\n",
      "3          T1    1.12\n",
      "4          T1    1.25\n"
     ]
    }
   ],
   "source": [
    "#crear DataFrame\n",
    "# Datos del ejemplo (tratamiento vs resistencia)\n",
    "df = pd.DataFrame({\n",
    "    'Tratamiento': ['T1']*12 + ['T2']*12+ ['T3']*12 + ['T4']*12 ,\n",
    "    'Factor': [1.10,1.11,1.05,1.12,1.25,1.20,1.07,1.08,1.09,1.10,1.11,1.12,1.02,1.15,0.96,0.99,0.94,0.76,1.25,1.07,0.95,1.05,1.22,1.03,0.93,0.72,0.68,0.75,0.63,0.88,0.82,0.77,0.58,0.74,0.84,0.73,0.84,0.80,0.68,0.96,0.76,0.91,0.91,0.82,0.78,0.85,0.79,0.87]\n",
    "})\n",
    "print(df.head())\n"
   ]
  },
  {
   "cell_type": "markdown",
   "id": "eab3e6b6",
   "metadata": {},
   "source": [
    "Paso 3 :  Primer vistazo de la tabla ANOVA"
   ]
  },
  {
   "cell_type": "code",
   "execution_count": 82,
   "id": "9850d50a",
   "metadata": {},
   "outputs": [
    {
     "name": "stdout",
     "output_type": "stream",
     "text": [
      "                  sum_sq    df          F        PR(>F)\n",
      "C(Tratamiento)  1.025473   3.0  37.129592  4.046506e-12\n",
      "Residual        0.405075  44.0        NaN           NaN\n"
     ]
    }
   ],
   "source": [
    "modelo = ols('Factor ~ C(Tratamiento)', data=df).fit()\n",
    "anova_table = sm.stats.anova_lm(modelo, typ=2)\n",
    "print(anova_table)"
   ]
  },
  {
   "cell_type": "markdown",
   "id": "baf77e17",
   "metadata": {},
   "source": [
    "Paso 4 : Extraccion de resiudos "
   ]
  },
  {
   "cell_type": "code",
   "execution_count": 83,
   "id": "49820b6e",
   "metadata": {},
   "outputs": [
    {
     "name": "stdout",
     "output_type": "stream",
     "text": [
      "\n",
      "Primeros residuos:\n",
      "[[-0.01666667]\n",
      " [-0.00666667]\n",
      " [-0.06666667]\n",
      " [ 0.00333333]\n",
      " [ 0.13333333]\n",
      " [ 0.08333333]\n",
      " [-0.04666667]\n",
      " [-0.03666667]\n",
      " [-0.02666667]\n",
      " [-0.01666667]\n",
      " [-0.00666667]\n",
      " [ 0.00333333]\n",
      " [-0.0125    ]\n",
      " [ 0.1175    ]\n",
      " [-0.0725    ]\n",
      " [-0.0425    ]\n",
      " [-0.0925    ]\n",
      " [-0.2725    ]\n",
      " [ 0.2175    ]\n",
      " [ 0.0375    ]\n",
      " [-0.0825    ]\n",
      " [ 0.0175    ]\n",
      " [ 0.1875    ]\n",
      " [-0.0025    ]\n",
      " [ 0.17416667]\n",
      " [-0.03583333]\n",
      " [-0.07583333]\n",
      " [-0.00583333]\n",
      " [-0.12583333]\n",
      " [ 0.12416667]\n",
      " [ 0.06416667]\n",
      " [ 0.01416667]\n",
      " [-0.17583333]\n",
      " [-0.01583333]\n",
      " [ 0.08416667]\n",
      " [-0.02583333]\n",
      " [ 0.00916667]\n",
      " [-0.03083333]\n",
      " [-0.15083333]\n",
      " [ 0.12916667]\n",
      " [-0.07083333]\n",
      " [ 0.07916667]\n",
      " [ 0.07916667]\n",
      " [-0.01083333]\n",
      " [-0.05083333]\n",
      " [ 0.01916667]\n",
      " [-0.04083333]\n",
      " [ 0.03916667]]\n"
     ]
    },
    {
     "data": {
      "image/png": "[encoded data removed]",
      "text/plain": [
       "<Figure size 640x480 with 1 Axes>"
      ]
     },
     "metadata": {},
     "output_type": "display_data"
    }
   ],
   "source": [
    "# Extracción de los residuales\n",
    "residuos = modelo.resid\n",
    "print(\"\\nPrimeros residuos:\")\n",
    "print(residuos.values.reshape(-1, 1))\n",
    "\n",
    "# Histograma de los residuos\n",
    "plt.hist(residuos, bins=10, edgecolor='black')\n",
    "plt.title('Histograma de Residuos')\n",
    "plt.xlabel('Residuos')\n",
    "plt.ylabel('Frecuencia')\n",
    "plt.show()\n"
   ]
  },
  {
   "cell_type": "markdown",
   "id": "173f3111",
   "metadata": {},
   "source": [
    "Paso 5 : Graficos de diagnostico"
   ]
  },
  {
   "cell_type": "code",
   "execution_count": 84,
   "id": "abc2164a",
   "metadata": {},
   "outputs": [
    {
     "data": {
      "image/png": "[encoded data removed]",
      "text/plain": [
       "<Figure size 1000x800 with 4 Axes>"
      ]
     },
     "metadata": {},
     "output_type": "display_data"
    }
   ],
   "source": [
    "# 4. Gráficos diagnósticos (similar a plot(modelo2) en R)\n",
    "fig, axes = plt.subplots(2, 2, figsize=(10, 8))\n",
    "# a) Residuos vs. Valores ajustados\n",
    "axes[0, 0].scatter(modelo.fittedvalues, residuos, color='blue')\n",
    "axes[0, 0].axhline(0, color='red', linestyle=\"--\")\n",
    "axes[0, 0].set_xlabel(\"Valores ajustados\")\n",
    "axes[0, 0].set_ylabel(\"Residuos\")\n",
    "axes[0, 0].set_title(\"Residuos vs. Valores ajustados\")\n",
    "# b) Q-Q Plot para evaluar normalidad\n",
    "sm.qqplot(residuos, line='s', ax=axes[0, 1])\n",
    "axes[0, 1].set_title(\"Q-Q Plot\")\n",
    "# c) Gráfico Scale-Location: raíz del valor absoluto de los residuos estandarizados vs. valores ajustados\n",
    "influence = modelo.get_influence()\n",
    "std_resid = influence.resid_studentized_internal\n",
    "sqrt_abs_std_resid = np.sqrt(np.abs(std_resid))\n",
    "axes[1, 0].scatter(modelo.fittedvalues, sqrt_abs_std_resid, color='green')\n",
    "axes[1, 0].set_xlabel(\"Valores ajustados\")\n",
    "axes[1, 0].set_ylabel(\"sqrt(|Residuos estandarizados|)\")\n",
    "axes[1, 0].set_title(\"Scale-Location\")\n",
    "# d) Residuos vs. Leverage (para detectar puntos influyentes)\n",
    "# d) Residuos vs. Leverage (para detectar puntos influyentes)\n",
    "influence_plot(modelo, ax=axes[1, 1], size=8)\n",
    "axes[1, 1].set_title(\"Residuos vs. Leverage\")\n",
    "\n",
    "\n",
    "plt.tight_layout()\n",
    "plt.show()\n"
   ]
  },
  {
   "cell_type": "code",
   "execution_count": 85,
   "id": "7f498716",
   "metadata": {},
   "outputs": [
    {
     "data": {
      "image/png": "[encoded data removed]",
      "text/plain": [
       "<Figure size 800x600 with 1 Axes>"
      ]
     },
     "metadata": {},
     "output_type": "display_data"
    }
   ],
   "source": [
    "# Diagrama de cajas para visualizar la distribución de la Resistencia según el Tratamiento\n",
    "plt.figure(figsize=(8, 6))\n",
    "sns.boxplot(x='Tratamiento', y='Factor', data=df)\n",
    "plt.title(\"Diagrama de cajas: Distribución de Resistencia por Tratamiento\")\n",
    "plt.xlabel(\"Tratamiento\")\n",
    "plt.ylabel(\"Resistencia\")\n",
    "plt.show()"
   ]
  },
  {
   "cell_type": "code",
   "execution_count": 98,
   "id": "cac99b7b",
   "metadata": {},
   "outputs": [
    {
     "name": "stdout",
     "output_type": "stream",
     "text": [
      "  Tratamiento    Factor\n",
      "0          T1  1.116667\n",
      "1          T2  1.032500\n",
      "2          T3  0.755833\n",
      "3          T4  0.830833\n"
     ]
    },
    {
     "data": {
      "image/png": "[encoded data removed]",
      "text/plain": [
       "<Figure size 600x400 with 1 Axes>"
      ]
     },
     "metadata": {},
     "output_type": "display_data"
    }
   ],
   "source": [
    "# Calcular medias por tratamiento\n",
    "medias = df.groupby('Tratamiento')['Factor'].mean().reset_index()\n",
    "\n",
    "# Mostrar tabla con medias\n",
    "print(medias)\n",
    "\n",
    "# Graficar barras con colores diferentes\n",
    "plt.figure(figsize=(6,4))\n",
    "colors = ['#1f77b4', '#ff7f0e', '#2ca02c', '#d62728']  # 4 colores distintos\n",
    "\n",
    "plt.bar(medias['Tratamiento'], medias['Factor'], color=colors)\n",
    "plt.title('Media de Factor por Tratamiento')\n",
    "plt.xlabel('Tratamiento')\n",
    "plt.ylabel('Media de Factor')\n",
    "plt.ylim(0, medias['Factor'].max() + 0.2)  # margen superior para que se vea mejor\n",
    "plt.grid(axis='y', linestyle='--', alpha=0.7)\n",
    "plt.show()"
   ]
  },
  {
   "cell_type": "markdown",
   "id": "7697c628",
   "metadata": {},
   "source": [
    "\\footnotesize\n",
    "\n",
    "##  Interpretación de los Gráficos Diagnósticos del ANOVA\n",
    "\n",
    "- **Residuos vs. Valores Ajustados**:  \n",
    "  Evalúa la linealidad y homocedasticidad. Una distribución aleatoria de puntos alrededor de la línea horizontal ($y = 0$) indica que los errores son independientes y tienen varianza constante. La presencia de patrones sugiere no linealidad o heterocedasticidad.\n",
    "\n",
    "- **Q-Q Plot (Quantile-Quantile Plot)**:  \n",
    "  Compara la distribución de los residuos con una normal teórica. Si los puntos se alinean sobre la línea diagonal, se asume normalidad. Desviaciones sistemáticas indican que los residuos no son normales.\n",
    "\n",
    "- **Scale-Location (raíz de residuos estandarizados vs. valores ajustados)**:  \n",
    "  Evalúa si la varianza de los residuos es constante. Una dispersión horizontal homogénea indica homocedasticidad. Un patrón de embudo sugiere heterocedasticidad.\n",
    "\n",
    "- **Residuos vs. Leverage (gráfico de influencia)**:  \n",
    "  Identifica observaciones influyentes. Puntos con alto leverage y grandes residuos pueden afectar el modelo significativamente. Las líneas de distancia de Cook ayudan a detectar observaciones problemáticas.\n",
    "\n",
    "- **Histograma de residuos**:  \n",
    "  Permite observar la forma de la distribución de los errores. Si los residuos siguen una distribución normal, el histograma debe mostrar una forma de campana (curva gaussiana). Asimetrías o picos inusuales pueden indicar violación del supuesto de normalidad.\n",
    "\n",
    "- **Boxplot general de residuos**:  \n",
    "  Permite identificar valores atípicos (outliers) entre los residuos. Si los residuos están centrados en cero y dentro del rango intercuartílico sin demasiados puntos extremos, se refuerza la validez de los supuestos. Presencia de outliers podría indicar observaciones anómalas que afectan el modelo.\n"
   ]
  },
  {
   "cell_type": "markdown",
   "id": "232ed814",
   "metadata": {},
   "source": [
    "Paso 6: Verificar los supuestos del modelo"
   ]
  },
  {
   "cell_type": "markdown",
   "id": "abbd8d7c",
   "metadata": {},
   "source": [
    "6.1.1 Prueba de normalidad: Shapiro-Wilk sobre los residuales (datos<50)"
   ]
  },
  {
   "cell_type": "code",
   "execution_count": 86,
   "id": "ed3b46de",
   "metadata": {},
   "outputs": [
    {
     "name": "stdout",
     "output_type": "stream",
     "text": [
      "\n",
      "Resultado de la prueba de Shapiro-Wilk:\n",
      "W = 0.9674, p-value = 0.2005\n",
      "\n",
      "[Conclusión Shapiro-Wilk]: Se acepta H0 , los residuales o errores se ajustan una distribución normal (p > 0.05).\n"
     ]
    }
   ],
   "source": [
    "# Normalidad de los residuos\n",
    "shapiro_result = shapiro(residuos)\n",
    "print(\"\\nResultado de la prueba de Shapiro-Wilk:\")\n",
    "print(f\"W = {shapiro_result.statistic:.4f}, p-value = {shapiro_result.pvalue:.4f}\")\n",
    "# --- Conclusión para Shapiro-Wilk:\n",
    "if shapiro_result.pvalue > 0.05:\n",
    "    print(\"\\n[Conclusión Shapiro-Wilk]: Se acepta H0 , los residuales o errores se ajustan una distribución normal (p > 0.05).\")\n",
    "else:\n",
    "    print(\"\\n[Conclusión Shapiro-Wilk]: Se rechaza H0 , los residuales o errores no se ajustan  una distribución normal (p < 0.05).\")"
   ]
  },
  {
   "cell_type": "markdown",
   "id": "537e209f",
   "metadata": {},
   "source": [
    "6.1.2 Prueba de Kolmogorov-Smirnov (K-S) sobre los residuales (datos>50)"
   ]
  },
  {
   "cell_type": "code",
   "execution_count": 87,
   "id": "16141eb7",
   "metadata": {},
   "outputs": [
    {
     "name": "stdout",
     "output_type": "stream",
     "text": [
      "\n",
      "Prueba Kolmogorov-Smirnov:\n",
      "Estadístico K-S: 0.1265506451441113\n",
      "P-valor: 0.39277391606376777\n",
      "\n",
      "[Conclusión K-S]: Se acepta H0 , los residuales o errores se ajustan una distribución normal (p > 0.05).\n"
     ]
    }
   ],
   "source": [
    "# Prueba de Kolmogorov-Smirnov para normalidad de los residuos\n",
    "ks_statistic, ks_p_value = kstest(residuos, 'norm', args=(residuos.mean(), residuos.std()))\n",
    "\n",
    "print(\"\\nPrueba Kolmogorov-Smirnov:\")\n",
    "print(f'Estadístico K-S: {ks_statistic}')\n",
    "print(f'P-valor: {ks_p_value}')\n",
    "\n",
    "# Interpretación\n",
    "if ks_p_value > 0.05:\n",
    "    print(\"\\n[Conclusión K-S]: Se acepta H0 , los residuales o errores se ajustan una distribución normal (p > 0.05).\")\n",
    "else:\n",
    "     print(\"\\n[Conclusión K-S]: Se rechaza H0 , los residuales o errores no se ajustan  una distribución normal (p < 0.05).\")"
   ]
  },
  {
   "cell_type": "markdown",
   "id": "f9ec818f",
   "metadata": {},
   "source": [
    "6.2 Prueba de homogeneidad de varianzas (Levene)"
   ]
  },
  {
   "cell_type": "code",
   "execution_count": 88,
   "id": "d52c5d9f",
   "metadata": {},
   "outputs": [
    {
     "name": "stdout",
     "output_type": "stream",
     "text": [
      "\n",
      "Resultado de la prueba de Levene (centro = mediana):\n",
      "LeveneResult(statistic=np.float64(2.029613561500764), pvalue=np.float64(0.12355189740221557))\n",
      "\n",
      "Resultado de la prueba de Levene (centro = media):\n",
      "LeveneResult(statistic=np.float64(2.032254099783372), pvalue=np.float64(0.1231753299361144))\n",
      "\n",
      "[Conclusión Levene]: Se acepta la homogeneidad de varianzas entre los grupos (p > 0.05).\n"
     ]
    }
   ],
   "source": [
    "#Homogeneidad de varianzas (Levene)\n",
    "# Se separan los datos por grupo (tratamiento)\n",
    "lista_grupos = [df.loc[df[\"Tratamiento\"] == trat, \"Factor\"] \n",
    "                for trat in df[\"Tratamiento\"].unique()]\n",
    "\n",
    "levene_median = levene(*lista_grupos, center='median')\n",
    "levene_mean   = levene(*lista_grupos, center='mean')\n",
    "print(\"\\nResultado de la prueba de Levene (centro = mediana):\")\n",
    "print(levene_median)\n",
    "print(\"\\nResultado de la prueba de Levene (centro = media):\")\n",
    "print(levene_mean)\n",
    "## --- Conclusión para Levene:\n",
    "if levene_mean.pvalue > 0.05 and levene_median.pvalue > 0.05:\n",
    "    print(\"\\n[Conclusión Levene]: Se acepta la homogeneidad de varianzas entre los grupos (p > 0.05).\")\n",
    "else:\n",
    "    print(\"\\n[Conclusión Levene]: No se cumple la homogeneidad de varianzas (p < 0.05).\")\n"
   ]
  },
  {
   "cell_type": "markdown",
   "id": "c4880c1c",
   "metadata": {},
   "source": [
    "6.3 Prueba de independencia: estadístico de Durbin-Watson"
   ]
  },
  {
   "cell_type": "code",
   "execution_count": 89,
   "id": "9f620c65",
   "metadata": {},
   "outputs": [
    {
     "name": "stdout",
     "output_type": "stream",
     "text": [
      "\n",
      "Estadístico de Durbin-Watson:\n",
      "2.290160601260398\n",
      "\n",
      "[Conclusión Durbin-Watson]: No se detecta correlacion serial positiva o negativa en los residuales (valor cercano a 2).\n",
      "se tiene evidencia estadisica para afirmar que hay independicia entre los residuos a un nivel significancia del 5%.\n"
     ]
    }
   ],
   "source": [
    "dw = durbin_watson(residuos)\n",
    "print(\"\\nEstadístico de Durbin-Watson:\")\n",
    "print(dw)\n",
    "# --- Conclusión Durbin-Watson:\n",
    "if 1.5 <= dw <= 2.5:\n",
    "    print(\"\\n[Conclusión Durbin-Watson]: No se detecta correlacion serial positiva o negativa en los residuales (valor cercano a 2).\")\n",
    "    print(\"se tiene evidencia estadisica para afirmar que hay independicia entre los residuos a un nivel significancia del 5%.\")\n",
    "else:\n",
    "    print(\"\\n[Conclusión Durbin-Watson]: Hay evidencia estadisticamente significativa  de posibles indicios de autocorrelación en los residuales.\")"
   ]
  },
  {
   "cell_type": "markdown",
   "id": "d2582e8d",
   "metadata": {},
   "source": [
    "Paso 7 : Confrimacion de la tabla ANOVA e interpretación"
   ]
  },
  {
   "cell_type": "markdown",
   "id": "784ef700",
   "metadata": {},
   "source": [
    "Dado se que cumplen los supuestos de un DCA entonces podemos aplicar ANOVA"
   ]
  },
  {
   "cell_type": "code",
   "execution_count": 90,
   "id": "14154601",
   "metadata": {},
   "outputs": [
    {
     "name": "stdout",
     "output_type": "stream",
     "text": [
      "\n",
      "Tabla ANOVA (confirmación):\n",
      "                  sum_sq    df          F        PR(>F)\n",
      "C(Tratamiento)  1.025473   3.0  37.129592  4.046506e-12\n",
      "Residual        0.405075  44.0        NaN           NaN\n"
     ]
    }
   ],
   "source": [
    "# 8. Confirmación de la tabla ANOVA\n",
    "print(\"\\nTabla ANOVA (confirmación):\")\n",
    "print(anova_table)"
   ]
  },
  {
   "cell_type": "code",
   "execution_count": 91,
   "id": "7f63c4e9",
   "metadata": {},
   "outputs": [
    {
     "name": "stdout",
     "output_type": "stream",
     "text": [
      "F-calculado: 37.13\n",
      "F-tabular 4.04651e-12\n",
      "F-calculado (3.71296e+01) es mayor que el F-tabular  (4.046505959536516e-12), se RECHAZA la hipótesis nula (H₀).\n",
      "Hay suficiente evidencia estadística para afirmar que el factor 'Crecimeinto de la planta' \n",
      " afecta significativamente la variable 'Tamaño en Metros'.\n",
      "Esto indica que al menos uno de los tratamientos es significativamente diferente de los demás.\n",
      "Se recomienda proceder con comparaciones post-hoc para identificar qué tratamientos son significativamente diferentes entre sí.\n"
     ]
    }
   ],
   "source": [
    "# Acceder al p-valor usando iloc para evitar la advertencia\n",
    "F_tab = anova_table['PR(>F)'].iloc[0] \n",
    "valor_F = anova_table.loc['C(Tratamiento)', 'F']\n",
    "alpha = 0.05  # Nivel de significancia\n",
    "\n",
    "print(f\"F-calculado: {valor_F:.2f}\")\n",
    "print(f\"F-tabular {F_tab:.5e}\")\n",
    "\n",
    "\n",
    "if valor_F > F_tab:\n",
    "    print(f\"F-calculado ({valor_F:.5e}) es mayor que el F-tabular  ({F_tab}), se RECHAZA la hipótesis nula (H₀).\")\n",
    "    print(f\"Hay suficiente evidencia estadística para afirmar que el factor '{experimento['factor']}' \\n afecta significativamente la variable '{experimento['variable_respuesta']}'.\")\n",
    "    print(\"Esto indica que al menos uno de los tratamientos es significativamente diferente de los demás.\")\n",
    "    print(\"Se recomienda proceder con comparaciones post-hoc para identificar qué tratamientos son significativamente diferentes entre sí.\")\n",
    "else:\n",
    "    print(f\"F-calculado ({valor_F:.5e}) es menor o igual que el F_tabular ({F_tab}), NO se rechaza la hipótesis nula (H₀).\")\n",
    "    print(f\"Hay suficiente evidencia estadística para afirmar que el factor '{experimento['factor']}'  \\n no tiene un efecto significativo sobre '{experimento['variable_respuesta']}'.\")\n",
    "    print(\"No se recomienda proceder con comparaciones post-hoc, ya que no se encontró evidencia suficiente para justificar que los tratamientos difieren significativamente.\")\n"
   ]
  },
  {
   "cell_type": "markdown",
   "id": "758efeab",
   "metadata": {},
   "source": [
    "Paso 8 : Comparaciones múltiples de medias"
   ]
  },
  {
   "cell_type": "markdown",
   "id": "85f77181",
   "metadata": {},
   "source": [
    "8.1 Prueba de Diferencia Mínima Significativa (LSD) de Fisher:"
   ]
  },
  {
   "cell_type": "code",
   "execution_count": 92,
   "id": "828e4c5c",
   "metadata": {},
   "outputs": [
    {
     "name": "stdout",
     "output_type": "stream",
     "text": [
      "\n",
      "============================================================\n",
      "PRUEBA DE DIFERENCIA MÍNIMA SIGNIFICATIVA (LSD)\n",
      "============================================================\n",
      "\n",
      "Grupo 1    Grupo 2    Diferencia   p-valor    ¿Sig?    Conclusión     \n",
      "-----------------------------------------------------------------\n",
      "T1         T2         0.0842       0.0556     No       Sin diferencia significativa (p=0.0556)\n",
      "T1         T3         0.3608       0.0000     Sí       'T1' > 'T3' (p=0.0000)\n",
      "T1         T4         0.2858       0.0000     Sí       'T1' > 'T4' (p=0.0000)\n",
      "T2         T3         0.2767       0.0000     Sí       'T2' > 'T3' (p=0.0000)\n",
      "T2         T4         0.2017       0.0002     Sí       'T2' > 'T4' (p=0.0002)\n",
      "T3         T4         -0.0750      0.0522     No       Sin diferencia significativa (p=0.0522)\n",
      "\n",
      "============================================================\n",
      "Notas metodológicas:\n",
      "- Nivel de significancia: α = 0.05\n",
      "- Prueba basada en t-test independiente (equivalente a LSD)\n",
      "- Valores p no ajustados para comparaciones múltiples\n",
      "============================================================\n"
     ]
    }
   ],
   "source": [
    "# Realizar la prueba LSD (usando TukeyHSD como aproximación)\n",
    "print(\"\\n\" + \"=\"*60)\n",
    "print(\"PRUEBA DE DIFERENCIA MÍNIMA SIGNIFICATIVA (LSD)\")\n",
    "print(\"=\"*60 + \"\\n\")\n",
    "\n",
    "print(\"{:<10} {:<10} {:<12} {:<10} {:<8} {:<15}\".format(\n",
    "    \"Grupo 1\", \"Grupo 2\", \"Diferencia\", \"p-valor\", \"¿Sig?\", \"Conclusión\"))\n",
    "print(\"-\"*65)\n",
    "\n",
    "# Calcular manualmente las comparaciones LSD\n",
    "from scipy.stats import ttest_ind\n",
    "\n",
    "tratamientos = df['Tratamiento'].unique()\n",
    "for i in range(len(tratamientos)):\n",
    "    for j in range(i+1, len(tratamientos)):\n",
    "        grupo1 = tratamientos[i]\n",
    "        grupo2 = tratamientos[j]\n",
    "        \n",
    "        data1 = df[df['Tratamiento'] == grupo1]['Factor']\n",
    "        data2 = df[df['Tratamiento'] == grupo2]['Factor']\n",
    "        \n",
    "        # Prueba t independiente (equivalente a LSD)\n",
    "        t_stat, p_value = ttest_ind(data1, data2)\n",
    "        meandiff = np.mean(data1) - np.mean(data2)\n",
    "        \n",
    "        # Determinar significancia y dirección\n",
    "        if p_value < 0.05:\n",
    "            significancia = \"Sí\"\n",
    "            if meandiff > 0:\n",
    "                conclusion = f\"'{grupo1}' > '{grupo2}' (p={p_value:.4f})\"\n",
    "            else:\n",
    "                conclusion = f\"'{grupo1}' < '{grupo2}' (p={p_value:.4f})\"\n",
    "        else:\n",
    "            significancia = \"No\"\n",
    "            conclusion = f\"Sin diferencia significativa (p={p_value:.4f})\"\n",
    "        \n",
    "        # Imprimir fila formateada\n",
    "        print(\"{:<10} {:<10} {:<12.4f} {:<10.4f} {:<8} {:<15}\".format(\n",
    "            grupo1, grupo2, meandiff, p_value, significancia, conclusion))\n",
    "\n",
    "# Información adicional\n",
    "print(\"\\n\" + \"=\"*60)\n",
    "print(\"Notas metodológicas:\")\n",
    "print(f\"- Nivel de significancia: α = 0.05\")\n",
    "print(\"- Prueba basada en t-test independiente (equivalente a LSD)\")\n",
    "print(\"- Valores p no ajustados para comparaciones múltiples\")\n",
    "print(\"=\"*60)\n",
    "\n"
   ]
  },
  {
   "cell_type": "markdown",
   "id": "0ed208ff",
   "metadata": {},
   "source": [
    "8.2 Prueba de Tukey para comparaciones múltiples"
   ]
  },
  {
   "cell_type": "code",
   "execution_count": 93,
   "id": "98097c97",
   "metadata": {},
   "outputs": [
    {
     "name": "stdout",
     "output_type": "stream",
     "text": [
      "\n",
      "══════════════════════════════════════════════════\n",
      " PRUEBA DE COMPARACIÓN MÚLTIPLE DE TUKEY \n",
      "══════════════════════════════════════════════════\n",
      "Multiple Comparison of Means - Tukey HSD, FWER=0.05 \n",
      "====================================================\n",
      "group1 group2 meandiff p-adj   lower   upper  reject\n",
      "----------------------------------------------------\n",
      "    T1     T2  -0.0842 0.1539 -0.1888  0.0204  False\n",
      "    T1     T3  -0.3608    0.0 -0.4654 -0.2562   True\n",
      "    T1     T4  -0.2858    0.0 -0.3904 -0.1812   True\n",
      "    T2     T3  -0.2767    0.0 -0.3813 -0.1721   True\n",
      "    T2     T4  -0.2017    0.0 -0.3063 -0.0971   True\n",
      "    T3     T4    0.075 0.2368 -0.0296  0.1796  False\n",
      "----------------------------------------------------\n",
      "\n",
      "══════════════════════════════════════════════════\n",
      " MEDIAS POR TRATAMIENTO Y GRUPOS HOMOGÉNEOS \n",
      "══════════════════════════════════════════════════\n",
      "Tratamiento    Media Grupo\n",
      "         T1 1.116667     a\n",
      "         T2 1.032500     a\n",
      "         T4 0.830833     b\n",
      "         T3 0.755833     b\n",
      "\n",
      "══════════════════════════════════════════════════\n",
      " INTERPRETACIÓN \n",
      "══════════════════════════════════════════════════\n",
      "El mejor tratamiento es T1 con media 1.1167\n",
      "\n",
      "Tratamientos con la misma letra no son significativamente diferentes\n",
      "(α = 0.05)\n",
      "\n",
      "Revisar el resumen de Tukey para ver las comparaciones específicas\n"
     ]
    }
   ],
   "source": [
    "from statsmodels.stats.multicomp import pairwise_tukeyhsd\n",
    "import pandas as pd\n",
    "import numpy as np\n",
    "\n",
    "# Asumo que ya tienes tu DataFrame df con columnas 'Factor' y 'Tratamiento'\n",
    "\n",
    "print(\"\\n\" + \"═\"*50)\n",
    "print(\" PRUEBA DE COMPARACIÓN MÚLTIPLE DE TUKEY \")\n",
    "print(\"═\"*50)\n",
    "tukey = pairwise_tukeyhsd(endog=df[\"Factor\"],\n",
    "                         groups=df[\"Tratamiento\"],\n",
    "                         alpha=0.05)\n",
    "\n",
    "# 1. Mostrar el resumen estadístico completo\n",
    "print(tukey.summary())\n",
    "\n",
    "print(\"\\n\" + \"═\"*50)\n",
    "print(\" MEDIAS POR TRATAMIENTO Y GRUPOS HOMOGÉNEOS \")\n",
    "print(\"═\"*50)\n",
    "\n",
    "# Calcular medias por tratamiento\n",
    "medias = df.groupby('Tratamiento')['Factor'].mean().sort_values(ascending=False)\n",
    "\n",
    "# Crear DataFrame con las medias\n",
    "resultados = pd.DataFrame({'Media': medias})\n",
    "\n",
    "# Asignar letras de grupos homogéneos manualmente basado en el resumen de Tukey\n",
    "letras_grupos = {\n",
    "    'T1': 'a',\n",
    "    'T2': 'a', \n",
    "    'T4': 'b',\n",
    "    'T3': 'b'\n",
    "}\n",
    "\n",
    "resultados['Grupo'] = resultados.index.map(letras_grupos)\n",
    "\n",
    "# Mostrar resultados ordenados\n",
    "print(resultados.reset_index().to_string(index=False))\n",
    "\n",
    "print(\"\\n\" + \"═\"*50)\n",
    "print(\" INTERPRETACIÓN \")\n",
    "print(\"═\"*50)\n",
    "\n",
    "# Obtener el tratamiento con la media más alta (sin warning)\n",
    "mejor_tratamiento = resultados['Media'].idxmax()\n",
    "\n",
    "print(f\"El mejor tratamiento es {mejor_tratamiento} con media {resultados.loc[mejor_tratamiento, 'Media']:.4f}\")\n",
    "print(\"\\nTratamientos con la misma letra no son significativamente diferentes\")\n",
    "print(\"(α = 0.05)\\n\")\n",
    "print(\"Revisar el resumen de Tukey para ver las comparaciones específicas\")\n"
   ]
  },
  {
   "cell_type": "markdown",
   "id": "1ae13e8c",
   "metadata": {},
   "source": [
    "8.3 Prueba de Scheffé"
   ]
  },
  {
   "cell_type": "code",
   "execution_count": 94,
   "id": "b907db53",
   "metadata": {},
   "outputs": [
    {
     "name": "stdout",
     "output_type": "stream",
     "text": [
      "\n",
      "======================================================================\n",
      "ANÁLISIS POST-HOC: PRUEBA DE SCHEFFÉ\n",
      "======================================================================\n",
      "\n",
      "➤ Paso 1: Análisis de Varianza (ANOVA)\n",
      "               df    sum_sq   mean_sq          F        PR(>F)\n",
      "Tratamiento   3.0  1.025473  0.341824  37.129592  4.046506e-12\n",
      "Residual     44.0  0.405075  0.009206        NaN           NaN\n",
      "\n",
      "➤ Parámetros clave:\n",
      "- Grados libertad tratamientos: 3.0\n",
      "- Grados libertad error: 44.0\n",
      "- Error Cuadrático Medio (MSE): 0.0092\n",
      "- Tamaño de grupo (n): 12\n",
      "\n",
      "➤ Valor F crítico (α=0.05): 2.8165\n",
      "\n",
      "======================================================================\n",
      "COMPARACIONES POR PARES\n",
      "======================================================================\n",
      "Trat.A       Trat.B       Diferencia      F-Scheffé    p-valor    Conclusión           Dirección \n",
      "------------------------------------------------------------------------------------------\n",
      "T1           T2           0.0842          1.5390       0.2178     Sin diferencia significativa A > B     \n",
      "T1           T3           0.3608          28.2853      0.0000     Diferencia significativa A > B     \n",
      "T1           T4           0.2858          17.7490      0.0000     Diferencia significativa A > B     \n",
      "T2           T3           0.2767          16.6288      0.0000     Diferencia significativa A > B     \n",
      "T2           T4           0.2017          8.8352       0.0001     Diferencia significativa A > B     \n",
      "T3           T4           0.0750          1.2220       0.3130     Sin diferencia significativa A < B     \n",
      "\n",
      "======================================================================\n",
      "RESUMEN ESTADÍSTICO\n",
      "======================================================================\n",
      "➤ Comparaciones significativas: 4/6\n",
      "➤ Valor F crítico: 2.8165\n",
      "➤ Nivel de significancia: α = 0.05\n",
      "\n",
      "Resultados completos:\n",
      "Grupo A Grupo B  Diferencia  F-Scheffé      p-valor Significativo Dirección\n",
      "     T1      T2    0.084167   1.538961 2.177615e-01            NO     A > B\n",
      "     T1      T3    0.360833  28.285283 2.391845e-10            SÍ     A > B\n",
      "     T1      T4    0.285833  17.748963 1.072674e-07            SÍ     A > B\n",
      "     T2      T3    0.276667  16.628800 2.293263e-07            SÍ     A > B\n",
      "     T2      T4    0.201667   8.835181 1.067778e-04            SÍ     A > B\n",
      "     T3      T4    0.075000   1.221996 3.129839e-01            NO     A < B\n"
     ]
    }
   ],
   "source": [
    "# ==============================================\n",
    "# ANÁLISIS ESTADÍSTICO - PRUEBA DE SCHEFFÉ\n",
    "# ==============================================\n",
    "\n",
    "print(\"\\n\" + \"=\"*70)\n",
    "print(\"ANÁLISIS POST-HOC: PRUEBA DE SCHEFFÉ\")\n",
    "print(\"=\"*70 + \"\\n\")\n",
    "\n",
    "# 1. Modelo ANOVA\n",
    "print(\"➤ Paso 1: Análisis de Varianza (ANOVA)\")\n",
    "modelo = ols('Factor ~ Tratamiento', data=df).fit()\n",
    "anova_resultado = anova_lm(modelo)\n",
    "print(anova_resultado)\n",
    "\n",
    "# 2. Cálculo de parámetros clave\n",
    "MSE = anova_resultado['mean_sq']['Residual']\n",
    "gl_tratamientos = anova_resultado['df']['Tratamiento']\n",
    "gl_error = anova_resultado['df']['Residual']\n",
    "n_grupo = len(df) // len(df['Tratamiento'].unique())\n",
    "\n",
    "print(f\"\\n➤ Parámetros clave:\")\n",
    "print(f\"- Grados libertad tratamientos: {gl_tratamientos}\")\n",
    "print(f\"- Grados libertad error: {gl_error}\")\n",
    "print(f\"- Error Cuadrático Medio (MSE): {MSE:.4f}\")\n",
    "print(f\"- Tamaño de grupo (n): {n_grupo}\")\n",
    "\n",
    "# 3. Valor crítico de Scheffé\n",
    "f_critico = f.ppf(0.95, gl_tratamientos, gl_error)\n",
    "print(f\"\\n➤ Valor F crítico (α=0.05): {f_critico:.4f}\")\n",
    "\n",
    "# 4. Comparaciones por pares\n",
    "medias = df.groupby(\"Tratamiento\")[\"Factor\"].mean()\n",
    "comparaciones = []\n",
    "\n",
    "print(\"\\n\" + \"=\"*70)\n",
    "print(\"COMPARACIONES POR PARES\")\n",
    "print(\"=\"*70)\n",
    "print(\"{:<12} {:<12} {:<15} {:<12} {:<10} {:<20} {:<10}\".format(\n",
    "    \"Trat.A\", \"Trat.B\", \"Diferencia\", \"F-Scheffé\", \"p-valor\", \"Conclusión\", \"Dirección\"))\n",
    "print(\"-\"*90)\n",
    "\n",
    "for i in range(len(medias)):\n",
    "    for j in range(i+1, len(medias)):\n",
    "        grupoA = medias.index[i]\n",
    "        grupoB = medias.index[j]\n",
    "        diff = medias.iloc[i] - medias.iloc[j]\n",
    "        \n",
    "        # Cálculo del estadístico F de Scheffé\n",
    "        F_scheffe = (diff**2) / (MSE * (1/n_grupo + 1/n_grupo) * gl_tratamientos)\n",
    "        p_value = 1 - f.cdf(F_scheffe, gl_tratamientos, gl_error)\n",
    "        \n",
    "        # Determinación de significancia\n",
    "        if p_value < 0.05:\n",
    "            sig = \"SÍ\"\n",
    "            concl = \"Diferencia significativa\"\n",
    "        else:\n",
    "            sig = \"NO\"\n",
    "            concl = \"Sin diferencia significativa\"\n",
    "        \n",
    "        # Dirección del efecto\n",
    "        direccion = \"A > B\" if diff > 0 else \"A < B\"\n",
    "        \n",
    "        # Almacenar resultados\n",
    "        comparaciones.append({\n",
    "            'Grupo A': grupoA,\n",
    "            'Grupo B': grupoB,\n",
    "            'Diferencia': abs(diff),\n",
    "            'F-Scheffé': F_scheffe,\n",
    "            'p-valor': p_value,\n",
    "            'Significativo': sig,\n",
    "            'Dirección': direccion\n",
    "        })\n",
    "        \n",
    "        # Imprimir fila formateada\n",
    "        print(\"{:<12} {:<12} {:<15.4f} {:<12.4f} {:<10.4f} {:<20} {:<10}\".format(\n",
    "            grupoA, grupoB, abs(diff), F_scheffe, p_value, concl, direccion))\n",
    "\n",
    "# 5. Resumen estadístico\n",
    "print(\"\\n\" + \"=\"*70)\n",
    "print(\"RESUMEN ESTADÍSTICO\")\n",
    "print(\"=\"*70)\n",
    "print(f\"➤ Comparaciones significativas: {sum(1 for c in comparaciones if c['Significativo'] == 'SÍ')}/{len(comparaciones)}\")\n",
    "print(f\"➤ Valor F crítico: {f_critico:.4f}\")\n",
    "print(f\"➤ Nivel de significancia: α = 0.05\")\n",
    "\n",
    "# 6. Exportar resultados\n",
    "resultados_df = pd.DataFrame(comparaciones)\n",
    "print(\"\\nResultados completos:\")\n",
    "print(resultados_df.to_string(index=False))\n"
   ]
  },
  {
   "cell_type": "markdown",
   "id": "ca19487e",
   "metadata": {},
   "source": [
    "8.4 Prueba de Duncan"
   ]
  },
  {
   "cell_type": "code",
   "execution_count": 95,
   "id": "f26d0af5",
   "metadata": {},
   "outputs": [
    {
     "name": "stdout",
     "output_type": "stream",
     "text": [
      "\n",
      "======================================================================\n",
      "ANÁLISIS POST-HOC: PRUEBA DE DUNCAN\n",
      "======================================================================\n",
      "\n",
      "➤ Medias de tratamientos ordenadas:\n",
      "Tratamiento\n",
      "T1    1.116667\n",
      "T2    1.032500\n",
      "T4    0.830833\n",
      "T3    0.755833\n",
      "\n",
      "➤ Rangos significativos de Duncan:\n",
      "p=2: Rango crítico = 0.0789\n",
      "p=3: Rango crítico = 0.0950\n",
      "p=4: Rango crítico = 0.1046\n",
      "\n",
      "======================================================================\n",
      "COMPARACIONES POR PARES\n",
      "======================================================================\n",
      "Tratamiento  Comparado con Diferencia      Rango crítico Signif.    Conclusión          \n",
      "-------------------------------------------------------------------------------------\n",
      "T1           T2           0.0842          0.0789       SÍ         Diferencia significativa (p=2)\n",
      "T1           T4           0.2858          0.0950       SÍ         Diferencia significativa (p=3)\n",
      "T1           T3           0.3608          0.1046       SÍ         Diferencia significativa (p=4)\n",
      "T2           T4           0.2017          0.0789       SÍ         Diferencia significativa (p=2)\n",
      "T2           T3           0.2767          0.0950       SÍ         Diferencia significativa (p=3)\n",
      "T4           T3           0.0750          0.0789       NO         No significativa    \n",
      "\n",
      "======================================================================\n",
      "RESUMEN ESTADÍSTICO\n",
      "======================================================================\n",
      "➤ Nivel de significancia: α = 0.05\n",
      "➤ Error Cuadrático Medio (MSE): 0.0092\n",
      "➤ Grados de libertad del error: 44\n",
      "➤ Número de observaciones por grupo: 12\n",
      "\n",
      "Resultados completos:\n",
      "Grupo Superior Grupo Inferior  Diferencia  Rango crítico  p (pasos) Significativo\n",
      "            T1             T2    0.084167       0.078917          2            SÍ\n",
      "            T1             T4    0.285833       0.094974          3            SÍ\n",
      "            T1             T3    0.360833       0.104559          4            SÍ\n",
      "            T2             T4    0.201667       0.078917          2            SÍ\n",
      "            T2             T3    0.276667       0.094974          3            SÍ\n",
      "            T4             T3    0.075000       0.078917          2            NO\n"
     ]
    }
   ],
   "source": [
    "# ==============================================\n",
    "# ANÁLISIS ESTADÍSTICO - PRUEBA DE DUNCAN\n",
    "# ==============================================\n",
    "\n",
    "print(\"\\n\" + \"=\"*70)\n",
    "print(\"ANÁLISIS POST-HOC: PRUEBA DE DUNCAN\")\n",
    "print(\"=\"*70 + \"\\n\")\n",
    "\n",
    "# 1. Calcular parámetros básicos\n",
    "n_groups = len(df['Tratamiento'].unique())\n",
    "group_means = df.groupby('Tratamiento')['Factor'].mean().sort_values(ascending=False)\n",
    "n_obs = len(df) / n_groups\n",
    "MSE = 0.0092  # Valor del ANOVA anterior\n",
    "df_error = 44  # Grados de libertad del error\n",
    "\n",
    "print(\"➤ Medias de tratamientos ordenadas:\")\n",
    "print(group_means.to_string())\n",
    "\n",
    "# 2. Calcular rangos significativos\n",
    "print(\"\\n➤ Rangos significativos de Duncan:\")\n",
    "alpha = 0.05\n",
    "ranges = {}\n",
    "\n",
    "for p in range(2, n_groups + 1):\n",
    "    q = qsturng(1 - alpha, p, df_error)\n",
    "    sr = q * np.sqrt(MSE / n_obs)\n",
    "    ranges[p] = sr\n",
    "    print(f\"p={p}: Rango crítico = {sr:.4f}\")\n",
    "\n",
    "# 3. Realizar comparaciones\n",
    "print(\"\\n\" + \"=\"*70)\n",
    "print(\"COMPARACIONES POR PARES\")\n",
    "print(\"=\"*70)\n",
    "print(\"{:<12} {:<12} {:<15} {:<12} {:<10} {:<20}\".format(\n",
    "    \"Tratamiento\", \"Comparado con\", \"Diferencia\", \"Rango crítico\", \"Signif.\", \"Conclusión\"))\n",
    "print(\"-\"*85)\n",
    "\n",
    "results = []\n",
    "groups = group_means.index.tolist()\n",
    "\n",
    "for i in range(len(groups)):\n",
    "    for j in range(i + 1, len(groups)):\n",
    "        group1 = groups[i]\n",
    "        group2 = groups[j]\n",
    "        diff = group_means[group1] - group_means[group2]\n",
    "        p = j - i + 1  # Número de pasos entre medias\n",
    "        critical = ranges[p]\n",
    "        \n",
    "        if diff > critical:\n",
    "            sig = \"SÍ\"\n",
    "            concl = f\"Diferencia significativa (p={p})\"\n",
    "        else:\n",
    "            sig = \"NO\"\n",
    "            concl = \"No significativa\"\n",
    "        \n",
    "        results.append({\n",
    "            'Grupo Superior': group1,\n",
    "            'Grupo Inferior': group2,\n",
    "            'Diferencia': diff,\n",
    "            'Rango crítico': critical,\n",
    "            'p (pasos)': p,\n",
    "            'Significativo': sig\n",
    "        })\n",
    "        \n",
    "        print(\"{:<12} {:<12} {:<15.4f} {:<12.4f} {:<10} {:<20}\".format(\n",
    "            group1, group2, diff, critical, sig, concl))\n",
    "\n",
    "# 4. Resumen estadístico\n",
    "print(\"\\n\" + \"=\"*70)\n",
    "print(\"RESUMEN ESTADÍSTICO\")\n",
    "print(\"=\"*70)\n",
    "print(f\"➤ Nivel de significancia: α = {alpha}\")\n",
    "print(f\"➤ Error Cuadrático Medio (MSE): {MSE:.4f}\")\n",
    "print(f\"➤ Grados de libertad del error: {df_error}\")\n",
    "print(f\"➤ Número de observaciones por grupo: {n_obs:.0f}\")\n",
    "\n",
    "# 5. Resultados en DataFrame\n",
    "results_df = pd.DataFrame(results)\n",
    "print(\"\\nResultados completos:\")\n",
    "print(results_df.to_string(index=False))\n"
   ]
  },
  {
   "cell_type": "code",
   "execution_count": 96,
   "id": "5a80db40",
   "metadata": {},
   "outputs": [
    {
     "name": "stdout",
     "output_type": "stream",
     "text": [
      "  Tratamiento  Factor\n",
      "0          T1    1.10\n",
      "1          T1    1.11\n",
      "2          T1    1.05\n",
      "3          T1    1.12\n",
      "4          T1    1.25\n",
      "\n",
      "══════════════════════════════════════════════════\n",
      " ERRORES (RESIDUALES) POR TRATAMIENTO \n",
      "══════════════════════════════════════════════════\n",
      "\n",
      "Tratamiento T1:\n",
      " Residual\n",
      "  -0.0167\n",
      "  -0.0067\n",
      "  -0.0667\n",
      "   0.0033\n",
      "   0.1333\n",
      "   0.0833\n",
      "  -0.0467\n",
      "  -0.0367\n",
      "  -0.0267\n",
      "  -0.0167\n",
      "  -0.0067\n",
      "   0.0033\n",
      "\n",
      "Tratamiento T2:\n",
      " Residual\n",
      "  -0.0125\n",
      "   0.1175\n",
      "  -0.0725\n",
      "  -0.0425\n",
      "  -0.0925\n",
      "  -0.2725\n",
      "   0.2175\n",
      "   0.0375\n",
      "  -0.0825\n",
      "   0.0175\n",
      "   0.1875\n",
      "  -0.0025\n",
      "\n",
      "Tratamiento T3:\n",
      " Residual\n",
      "   0.1742\n",
      "  -0.0358\n",
      "  -0.0758\n",
      "  -0.0058\n",
      "  -0.1258\n",
      "   0.1242\n",
      "   0.0642\n",
      "   0.0142\n",
      "  -0.1758\n",
      "  -0.0158\n",
      "   0.0842\n",
      "  -0.0258\n",
      "\n",
      "Tratamiento T4:\n",
      " Residual\n",
      "   0.0092\n",
      "  -0.0308\n",
      "  -0.1508\n",
      "   0.1292\n",
      "  -0.0708\n",
      "   0.0792\n",
      "   0.0792\n",
      "  -0.0108\n",
      "  -0.0508\n",
      "   0.0192\n",
      "  -0.0408\n",
      "   0.0392\n",
      "\n",
      "══════════════════════════════════════════════════\n",
      " ESTADÍSTICOS DE LOS RESIDUALES \n",
      "══════════════════════════════════════════════════\n",
      "             count          mean       std       min       25%       50%  \\\n",
      "Tratamiento                                                                \n",
      "T1            12.0 -4.070818e-16  0.055650 -0.066667 -0.029167 -0.011667   \n",
      "T2            12.0  1.850372e-17  0.133084 -0.272500 -0.075000 -0.007500   \n",
      "T3            12.0  1.942890e-16  0.100856 -0.175833 -0.045833 -0.010833   \n",
      "T4            12.0 -1.942890e-16  0.076451 -0.150833 -0.043333 -0.000833   \n",
      "\n",
      "                  75%       max  \n",
      "Tratamiento                      \n",
      "T1           0.003333  0.133333  \n",
      "T2           0.057500  0.217500  \n",
      "T3           0.069167  0.174167  \n",
      "T4           0.049167  0.129167  \n"
     ]
    }
   ],
   "source": [
    "import pandas as pd \n",
    "import statsmodels.api as sm\n",
    "from statsmodels.formula.api import ols\n",
    "\n",
    "# 1. Crear DataFrame con los datos\n",
    "# Datos del ejemplo (tratamiento vs resistencia)\n",
    "df = pd.DataFrame({\n",
    "    'Tratamiento': ['T1']*12 + ['T2']*12+ ['T3']*12 + ['T4']*12 ,\n",
    "    'Factor': [1.10,1.11,1.05,1.12,1.25,1.20,1.07,1.08,1.09,1.10,1.11,1.12,1.02,1.15,0.96,0.99,0.94,0.76,1.25,1.07,0.95,1.05,1.22,1.03,0.93,0.72,0.68,0.75,0.63,0.88,0.82,0.77,0.58,0.74,0.84,0.73,0.84,0.80,0.68,0.96,0.76,0.91,0.91,0.82,0.78,0.85,0.79,0.87]\n",
    "})\n",
    "print(df.head())\n",
    "\n",
    "# 2. Ajustar modelo ANOVA\n",
    "modelo = ols('Factor~ C(Tratamiento)', data=df).fit()\n",
    "\n",
    "# 3. Calcular y agrupar residuos por tratamiento\n",
    "residuos_por_tratamiento = (\n",
    "    df.assign(Residual=modelo.resid)\n",
    "    .groupby('Tratamiento')['Residual']\n",
    "    .agg(list)\n",
    "    .to_dict()\n",
    ")\n",
    "\n",
    "# 4. Mostrar resultados de forma organizada\n",
    "print(\"\\n\" + \"═\"*50)\n",
    "print(\" ERRORES (RESIDUALES) POR TRATAMIENTO \")\n",
    "print(\"═\"*50)\n",
    "\n",
    "for tratamiento, residuos in residuos_por_tratamiento.items():\n",
    "    print(f\"\\nTratamiento {tratamiento}:\")\n",
    "    print(pd.DataFrame({'Residual': residuos}).to_string(index=False, float_format=\"%.4f\"))\n",
    "    \n",
    "# 5. Estadísticos descriptivos de los residuos\n",
    "print(\"\\n\" + \"═\"*50)\n",
    "print(\" ESTADÍSTICOS DE LOS RESIDUALES \")\n",
    "print(\"═\"*50)\n",
    "print(df.assign(Residual=modelo.resid).groupby('Tratamiento')['Residual'].describe())"
   ]
  }
 ],
 "metadata": {
  "kernelspec": {
   "display_name": "Python 3",
   "language": "python",
   "name": "python3"
  },
  "language_info": {
   "codemirror_mode": {
    "name": "ipython",
    "version": 3
   },
   "file_extension": ".py",
   "mimetype": "text/x-python",
   "name": "python",
   "nbconvert_exporter": "python",
   "pygments_lexer": "ipython3",
   "version": "3.13.2"
  }
 },
 "nbformat": 4,
 "nbformat_minor": 5
}
