{
 "cells": [
  {
   "cell_type": "markdown",
   "id": "9a844847",
   "metadata": {},
   "source": [
    "# Diseño Completamente al Azar (DCA)\n",
    "\n",
    "## Resumen General\n",
    "\n",
    "El **Diseño Completamente al Azar (DCA)** se emplea cuando las unidades experimentales son homogéneas y pueden ser asignadas aleatoriamente a tratamientos sin necesidad de bloques. Se aplica frecuentemente en condiciones controladas, como laboratorios.\n",
    "\n",
    "## Modelo Estadístico\n",
    "\n",
    "El modelo estadístico para el DCA es:\n",
    "\n",
    "$$\n",
    "Y_{ij} = \\mu + \\tau_i + \\epsilon_{ij}\n",
    "$$\n",
    "\n",
    "- $Y_{ij}$: Respuesta observada para el tratamiento $i$ en la repetición $j$\n",
    "- $\\mu$: Media general\n",
    "- $\\tau_i$: Efecto del tratamiento $i$\n",
    "- $\\epsilon_{ij}$: Error aleatorio, con $E(\\epsilon_{ij}) = 0$, $Var(\\epsilon_{ij}) = \\sigma^2$\n",
    "\n",
    "## Hipótesis\n",
    "\n",
    "- **$H_0$**: $\\tau_1 = \\tau_2 = \\dots = \\tau_t$ (todos los tratamientos tienen el mismo efecto)\n",
    "- **$H_a$**: Al menos uno de los $\\tau_i$ es distinto\n",
    "\n",
    "## Supuestos del Modelo\n",
    "\n",
    "| **SUPUESTO**                  | **PRUEBA**                          | **REGLA DE DECISIÓN**                                      |\n",
    "|------------------------------|-------------------------------------|-------------------------------------------------------------|\n",
    "| Normalidad de residuos       | Shapiro-Wilk / Kolmogorov-Smirnov  | $p > \\alpha \\Rightarrow$ residuos normales                 |\n",
    "| Homogeneidad de varianzas    | Levene                              | $p > \\alpha \\Rightarrow$ varianzas homogéneas              |\n",
    "| Independencia de residuos    | Durbin-Watson                       | Estadístico $DW \\approx 2 \\Rightarrow$ residuos independientes |\n",
    "\n",
    "## ANOVA\n",
    "\n",
    "\\[\n",
    "\\begin{array}{|c|c|c|c|c|}\n",
    "\\hline\n",
    "\\textbf{Fuente} & \\textbf{GL} & \\textbf{Suma de Cuadrados (SC)} & \\textbf{Cuadrado Medio (CM)} & \\textbf{F} \\\\\n",
    "\\hline\n",
    "\\text{Tratamientos} & t - 1 & SC_{\\text{trat}} = \\sum_{i=1}^t \\frac{Y_{i.}^2}{r_i} - \\frac{Y_{..}^2}{N} & CM_{\\text{trat}} = \\frac{SC_{\\text{trat}}}{t - 1} & F = \\frac{CM_{\\text{trat}}}{CM_{\\text{error}}} \\\\\n",
    "\\hline\n",
    "\\text{Error} & \\sum r_i - t & SC_{\\text{error}} = SC_{\\text{total}} - SC_{\\text{trat}} & CM_{\\text{error}} = \\frac{SC_{\\text{error}}}{GL_{\\text{error}}} & \\\\\n",
    "\\hline\n",
    "\\text{Total} & N - 1 & SC_{\\text{total}} = \\sum_{i=1}^t \\sum_{j=1}^{r_i} Y_{ij}^2 - \\frac{Y_{..}^2}{N} & & \\\\\n",
    "\\hline\n",
    "\\end{array}\n",
    "\\]\n",
    "\n",
    "Donde:\n",
    "\n",
    "- $t$: número de tratamientos\n",
    "- $r_i$: número de repeticiones por tratamiento $i$\n",
    "- $Y_{i.}$: suma total del tratamiento $i$\n",
    "- $Y_{..}$: suma total de todos los tratamientos\n",
    "- $N$: total de observaciones\n",
    "\n",
    "## Regla de Decisión\n",
    "\n",
    "- Si $F_{\\text{calc}} > F_{\\text{tab}}$, entonces **rechazar** $H_0$\n",
    "- Equivalente: Si $p$-valor $< \\alpha$, entonces **rechazar** $H_0$\n",
    "\n",
    "## Pruebas Post-hoc (Comparaciones Múltiples)\n",
    "\n",
    "### 1. LSD de Fisher (Diseño balanceado)\n",
    "\n",
    "$$\n",
    "LSD = t_{\\alpha/2, \\, GL_{\\text{error}}} \\cdot \\sqrt{MSE \\left( \\frac{1}{n_i} + \\frac{1}{n_j} \\right)}\n",
    "$$\n",
    "\n",
    "### 2. Tukey\n",
    "\n",
    "$$\n",
    "HSD = q_{\\alpha}(k, \\, GL_{\\text{error}}) \\cdot \\sqrt{\\frac{MSE}{n}}\n",
    "$$\n",
    "\n",
    "### 3. Scheffé\n",
    "\n",
    "$$\n",
    "S = \\sqrt{(k - 1) \\cdot F_{\\alpha}(k - 1, GL_{\\text{error}}) \\cdot \\frac{MSE}{n}}\n",
    "$$\n"
   ]
  },
  {
   "cell_type": "markdown",
   "id": "a07cc5e2",
   "metadata": {},
   "source": [
    "CODIGO EN PYTHON "
   ]
  },
  {
   "cell_type": "markdown",
   "id": "342985fb",
   "metadata": {},
   "source": [
    "ANALISIS DEL EXPERIMENTO"
   ]
  },
  {
   "cell_type": "code",
   "execution_count": 1,
   "id": "579f7a7e",
   "metadata": {},
   "outputs": [
    {
     "name": "stdout",
     "output_type": "stream",
     "text": [
      "\n",
      "Resumen del Experimento:\n",
      "Factor: Contenido de algodón\n",
      "Niveles del factor: ['10%', '15%', '20%', '25%', '30%', '35%']\n",
      "Tratamientos: ['T_1', 'T_2', 'T_3', 'T_4', 'T_5', 'T_6']\n",
      "Unidad experimental: Camisas para caballeros\n",
      "Variable de respuesta: Resistencia a la tension\n"
     ]
    }
   ],
   "source": [
    "# Ingresar los datos del experimento\n",
    "factor = \"Contenido de algodón\"\n",
    "niveles = [\"10%\",\"15%\",\"20%\",\"25%\",\"30%\",\"35%\"]\n",
    "tratamientos_inp = [\"T_1\",\"T_2\",\"T_3\",\"T_4\",\"T_5\",\"T_6\"]\n",
    "unidad_experimental = \"Camisas para caballeros\"\n",
    "variable_respuesta = \"Resistencia a la tension\" \n",
    "\n",
    "# Mostrar resumen\n",
    "print(\"\\nResumen del Experimento:\")\n",
    "print(f\"Factor: {factor}\")\n",
    "print(f\"Niveles del factor: {niveles}\")\n",
    "print(f\"Tratamientos: {tratamientos_inp}\")\n",
    "print(f\"Unidad experimental: {unidad_experimental}\")\n",
    "print(f\"Variable de respuesta: {variable_respuesta}\")\n",
    "\n",
    "\n",
    "# Almacenar en un diccionario para usarlo después\n",
    "experimento = {\n",
    "    \"factor\": factor,\n",
    "    \"niveles\": niveles,\n",
    "    \"tratamientos\": tratamientos_inp,\n",
    "    \"unidad_experimental\": unidad_experimental,\n",
    "    \"variable_respuesta\": variable_respuesta\n",
    "}\n",
    "\n"
   ]
  },
  {
   "cell_type": "markdown",
   "id": "c0ec6a0d",
   "metadata": {},
   "source": [
    "Paso 1 : Importar librerías"
   ]
  },
  {
   "cell_type": "code",
   "execution_count": 2,
   "id": "632835b1",
   "metadata": {},
   "outputs": [],
   "source": [
    "\n",
    "# Librerias\n",
    "import pandas as pd\n",
    "import statsmodels.api as sm\n",
    "from statsmodels.formula.api import ols\n",
    "from scipy.stats import shapiro\n",
    "from scipy.stats import levene\n",
    "from statsmodels.stats.stattools import durbin_watson\n",
    "from statsmodels.stats.multicomp import pairwise_tukeyhsd\n",
    "import matplotlib.pyplot as plt\n",
    "from statsmodels.graphics.regressionplots import influence_plot\n",
    "import seaborn as sns\n",
    "import numpy as np\n",
    "from statsmodels.stats.multicomp import pairwise_tukeyhsd\n",
    "import numpy as np\n",
    "import statsmodels.api as sm\n",
    "from statsmodels.stats.api import anova_lm\n",
    "from scipy.stats import f\n",
    "from scipy.stats import kstest\n",
    "from statsmodels.stats.anova import anova_lm\n",
    "from statsmodels.stats.libqsturng import psturng, qsturng\n",
    "from statsmodels.stats.multicomp import pairwise_tukeyhsd\n",
    "\n"
   ]
  },
  {
   "cell_type": "markdown",
   "id": "708a303d",
   "metadata": {},
   "source": [
    "Paso 2 : Insertar lo datos con los que se va a trabajar"
   ]
  },
  {
   "cell_type": "code",
   "execution_count": 3,
   "id": "438697ab",
   "metadata": {},
   "outputs": [
    {
     "name": "stdout",
     "output_type": "stream",
     "text": [
      "   Tratamiento  Factor\n",
      "0          15%       7\n",
      "1          15%       7\n",
      "2          15%      15\n",
      "3          15%      11\n",
      "4          15%       9\n",
      "5          20%      12\n",
      "6          20%      17\n",
      "7          20%      12\n",
      "8          20%      18\n",
      "9          20%      18\n",
      "10         25%      14\n",
      "11         25%      18\n",
      "12         25%      18\n",
      "13         25%      19\n",
      "14         25%      19\n",
      "15         30%      19\n",
      "16         30%      25\n",
      "17         30%      22\n",
      "18         30%      19\n",
      "19         30%      23\n",
      "20         35%       7\n",
      "21         35%      10\n",
      "22         35%      11\n",
      "23         35%      15\n",
      "24         35%      11\n"
     ]
    }
   ],
   "source": [
    "#crear DataFrame\n",
    "# Datos del ejemplo (tratamiento vs resistencia)\n",
    "df = pd.DataFrame({\n",
    "    'Tratamiento': ['15%']*5 + ['20%']*5+ ['25%']*5 + ['30%']*5 + ['35%']*5 ,\n",
    "    'Factor': [7,7,15,11,9,12,17,12,18,18,14,18,18,19,19,19,25,22,19,23,7,10,11,15,11]\n",
    "})\n",
    "print(df)\n"
   ]
  },
  {
   "cell_type": "markdown",
   "id": "eab3e6b6",
   "metadata": {},
   "source": [
    "Paso 3 :  Primer vistazo de la tabla ANOVA"
   ]
  },
  {
   "cell_type": "code",
   "execution_count": 4,
   "id": "9850d50a",
   "metadata": {},
   "outputs": [
    {
     "name": "stdout",
     "output_type": "stream",
     "text": [
      "                sum_sq    df          F    PR(>F)\n",
      "C(Tratamiento)  475.76   4.0  14.756824  0.000009\n",
      "Residual        161.20  20.0        NaN       NaN\n"
     ]
    }
   ],
   "source": [
    "modelo = ols('Factor ~ C(Tratamiento)', data=df).fit()\n",
    "anova_table = sm.stats.anova_lm(modelo, typ=2)\n",
    "print(anova_table)"
   ]
  },
  {
   "cell_type": "markdown",
   "id": "baf77e17",
   "metadata": {},
   "source": [
    "Paso 4 : Extraccion de resiudos "
   ]
  },
  {
   "cell_type": "code",
   "execution_count": 5,
   "id": "49820b6e",
   "metadata": {},
   "outputs": [
    {
     "name": "stdout",
     "output_type": "stream",
     "text": [
      "\n",
      "Primeros residuos:\n",
      "[[-2.8]\n",
      " [-2.8]\n",
      " [ 5.2]\n",
      " [ 1.2]\n",
      " [-0.8]\n",
      " [-3.4]\n",
      " [ 1.6]\n",
      " [-3.4]\n",
      " [ 2.6]\n",
      " [ 2.6]\n",
      " [-3.6]\n",
      " [ 0.4]\n",
      " [ 0.4]\n",
      " [ 1.4]\n",
      " [ 1.4]\n",
      " [-2.6]\n",
      " [ 3.4]\n",
      " [ 0.4]\n",
      " [-2.6]\n",
      " [ 1.4]\n",
      " [-3.8]\n",
      " [-0.8]\n",
      " [ 0.2]\n",
      " [ 4.2]\n",
      " [ 0.2]]\n"
     ]
    },
    {
     "data": {
      "image/png": "[encoded data removed]",
      "text/plain": [
       "<Figure size 640x480 with 1 Axes>"
      ]
     },
     "metadata": {},
     "output_type": "display_data"
    }
   ],
   "source": [
    "# Extracción de los residuales\n",
    "residuos = modelo.resid\n",
    "print(\"\\nPrimeros residuos:\")\n",
    "print(residuos.values.reshape(-1, 1))\n",
    "\n",
    "# Histograma de los residuos\n",
    "plt.hist(residuos, bins=10, edgecolor='black')\n",
    "plt.title('Histograma de Residuos')\n",
    "plt.xlabel('Residuos')\n",
    "plt.ylabel('Frecuencia')\n",
    "plt.show()\n"
   ]
  },
  {
   "cell_type": "markdown",
   "id": "173f3111",
   "metadata": {},
   "source": [
    "Paso 5 : Graficos de diagnostico"
   ]
  },
  {
   "cell_type": "code",
   "execution_count": 6,
   "id": "abc2164a",
   "metadata": {},
   "outputs": [
    {
     "data": {
      "image/png": "[encoded data removed]",
      "text/plain": [
       "<Figure size 1000x800 with 4 Axes>"
      ]
     },
     "metadata": {},
     "output_type": "display_data"
    }
   ],
   "source": [
    "# 4. Gráficos diagnósticos (similar a plot(modelo2) en R)\n",
    "fig, axes = plt.subplots(2, 2, figsize=(10, 8))\n",
    "# a) Residuos vs. Valores ajustados\n",
    "axes[0, 0].scatter(modelo.fittedvalues, residuos, color='blue')\n",
    "axes[0, 0].axhline(0, color='red', linestyle=\"--\")\n",
    "axes[0, 0].set_xlabel(\"Valores ajustados\")\n",
    "axes[0, 0].set_ylabel(\"Residuos\")\n",
    "axes[0, 0].set_title(\"Residuos vs. Valores ajustados\")\n",
    "# b) Q-Q Plot para evaluar normalidad\n",
    "sm.qqplot(residuos, line='s', ax=axes[0, 1])\n",
    "axes[0, 1].set_title(\"Q-Q Plot\")\n",
    "# c) Gráfico Scale-Location: raíz del valor absoluto de los residuos estandarizados vs. valores ajustados\n",
    "influence = modelo.get_influence()\n",
    "std_resid = influence.resid_studentized_internal\n",
    "sqrt_abs_std_resid = np.sqrt(np.abs(std_resid))\n",
    "axes[1, 0].scatter(modelo.fittedvalues, sqrt_abs_std_resid, color='green')\n",
    "axes[1, 0].set_xlabel(\"Valores ajustados\")\n",
    "axes[1, 0].set_ylabel(\"sqrt(|Residuos estandarizados|)\")\n",
    "axes[1, 0].set_title(\"Scale-Location\")\n",
    "# d) Residuos vs. Leverage (para detectar puntos influyentes)\n",
    "# d) Residuos vs. Leverage (para detectar puntos influyentes)\n",
    "influence_plot(modelo, ax=axes[1, 1], size=8)\n",
    "axes[1, 1].set_title(\"Residuos vs. Leverage\")\n",
    "\n",
    "\n",
    "plt.tight_layout()\n",
    "plt.show()\n"
   ]
  },
  {
   "cell_type": "code",
   "execution_count": 7,
   "id": "7f498716",
   "metadata": {},
   "outputs": [
    {
     "data": {
      "image/png": "[encoded data removed]",
      "text/plain": [
       "<Figure size 800x600 with 1 Axes>"
      ]
     },
     "metadata": {},
     "output_type": "display_data"
    }
   ],
   "source": [
    "# Diagrama de cajas para visualizar la distribución de la Resistencia según el Tratamiento\n",
    "plt.figure(figsize=(8, 6))\n",
    "sns.boxplot(x='Tratamiento', y='Factor', data=df)\n",
    "plt.title(\"Diagrama de cajas: Distribución de Resistencia por Tratamiento\")\n",
    "plt.xlabel(\"Tratamiento\")\n",
    "plt.ylabel(\"Resistencia\")\n",
    "plt.show()"
   ]
  },
  {
   "cell_type": "markdown",
   "id": "7697c628",
   "metadata": {},
   "source": [
    "\\footnotesize\n",
    "\n",
    "##  Interpretación de los Gráficos Diagnósticos del ANOVA\n",
    "\n",
    "- **Residuos vs. Valores Ajustados**:  \n",
    "  Evalúa la linealidad y homocedasticidad. Una distribución aleatoria de puntos alrededor de la línea horizontal ($y = 0$) indica que los errores son independientes y tienen varianza constante. La presencia de patrones sugiere no linealidad o heterocedasticidad.\n",
    "\n",
    "- **Q-Q Plot (Quantile-Quantile Plot)**:  \n",
    "  Compara la distribución de los residuos con una normal teórica. Si los puntos se alinean sobre la línea diagonal, se asume normalidad. Desviaciones sistemáticas indican que los residuos no son normales.\n",
    "\n",
    "- **Scale-Location (raíz de residuos estandarizados vs. valores ajustados)**:  \n",
    "  Evalúa si la varianza de los residuos es constante. Una dispersión horizontal homogénea indica homocedasticidad. Un patrón de embudo sugiere heterocedasticidad.\n",
    "\n",
    "- **Residuos vs. Leverage (gráfico de influencia)**:  \n",
    "  Identifica observaciones influyentes. Puntos con alto leverage y grandes residuos pueden afectar el modelo significativamente. Las líneas de distancia de Cook ayudan a detectar observaciones problemáticas.\n",
    "\n",
    "- **Histograma de residuos**:  \n",
    "  Permite observar la forma de la distribución de los errores. Si los residuos siguen una distribución normal, el histograma debe mostrar una forma de campana (curva gaussiana). Asimetrías o picos inusuales pueden indicar violación del supuesto de normalidad.\n",
    "\n",
    "- **Boxplot general de residuos**:  \n",
    "  Permite identificar valores atípicos (outliers) entre los residuos. Si los residuos están centrados en cero y dentro del rango intercuartílico sin demasiados puntos extremos, se refuerza la validez de los supuestos. Presencia de outliers podría indicar observaciones anómalas que afectan el modelo.\n"
   ]
  },
  {
   "cell_type": "markdown",
   "id": "232ed814",
   "metadata": {},
   "source": [
    "Paso 6: Verificar los supuestos del modelo"
   ]
  },
  {
   "cell_type": "markdown",
   "id": "abbd8d7c",
   "metadata": {},
   "source": [
    "6.1.1 Prueba de normalidad: Shapiro-Wilk sobre los residuales (datos<50)"
   ]
  },
  {
   "cell_type": "code",
   "execution_count": 8,
   "id": "ed3b46de",
   "metadata": {},
   "outputs": [
    {
     "name": "stdout",
     "output_type": "stream",
     "text": [
      "\n",
      "Resultado de la prueba de Shapiro-Wilk:\n",
      "W = 0.9439, p-value = 0.1818\n",
      "\n",
      "[Conclusión Shapiro-Wilk]: Los residuales o errores se ajustan una distribución normal (p > 0.05).\n"
     ]
    }
   ],
   "source": [
    "# Normalidad de los residuos\n",
    "shapiro_result = shapiro(residuos)\n",
    "print(\"\\nResultado de la prueba de Shapiro-Wilk:\")\n",
    "print(f\"W = {shapiro_result.statistic:.4f}, p-value = {shapiro_result.pvalue:.4f}\")\n",
    "# --- Conclusión para Shapiro-Wilk:\n",
    "if shapiro_result.pvalue > 0.05:\n",
    "    print(\"\\n[Conclusión Shapiro-Wilk]: Los residuales o errores se ajustan una distribución normal (p > 0.05).\")\n",
    "else:\n",
    "    print(\"\\n[Conclusión Shapiro-Wilk]: Los residuales o errores no se ajustan  una distribución normal (p < 0.05).\")"
   ]
  },
  {
   "cell_type": "markdown",
   "id": "537e209f",
   "metadata": {},
   "source": [
    "6.1.2 Prueba de Kolmogorov-Smirnov (K-S) sobre los residuales (datos>50)"
   ]
  },
  {
   "cell_type": "code",
   "execution_count": 9,
   "id": "16141eb7",
   "metadata": {},
   "outputs": [
    {
     "name": "stdout",
     "output_type": "stream",
     "text": [
      "\n",
      "Prueba Kolmogorov-Smirnov:\n",
      "Estadístico K-S: 0.16212278697907628\n",
      "P-valor: 0.47785230062769823\n",
      "No se puede rechazar la hipótesis nula de normalidad (los residuos son normales).\n"
     ]
    }
   ],
   "source": [
    "# Prueba de Kolmogorov-Smirnov para normalidad de los residuos\n",
    "ks_statistic, ks_p_value = kstest(residuos, 'norm', args=(residuos.mean(), residuos.std()))\n",
    "\n",
    "print(\"\\nPrueba Kolmogorov-Smirnov:\")\n",
    "print(f'Estadístico K-S: {ks_statistic}')\n",
    "print(f'P-valor: {ks_p_value}')\n",
    "\n",
    "# Interpretación\n",
    "if ks_p_value < 0.05:\n",
    "    print(\"Los residuos no siguen una distribución normal (rechazo H0).\")\n",
    "else:\n",
    "     print(\"No se puede rechazar la hipótesis nula de normalidad (los residuos son normales).\")"
   ]
  },
  {
   "cell_type": "markdown",
   "id": "f9ec818f",
   "metadata": {},
   "source": [
    "6.2 Prueba de homogeneidad de varianzas (Levene)"
   ]
  },
  {
   "cell_type": "code",
   "execution_count": 10,
   "id": "d52c5d9f",
   "metadata": {},
   "outputs": [
    {
     "name": "stdout",
     "output_type": "stream",
     "text": [
      "\n",
      "Resultado de la prueba de Levene (centro = mediana):\n",
      "LeveneResult(statistic=np.float64(0.317948717948718), pvalue=np.float64(0.8625858807756616))\n",
      "\n",
      "Resultado de la prueba de Levene (centro = media):\n",
      "LeveneResult(statistic=np.float64(0.6443357169740312), pvalue=np.float64(0.6372388614225389))\n",
      "\n",
      "[Conclusión Levene]: Se acepta la homogeneidad de varianzas entre los grupos (p > 0.05).\n"
     ]
    }
   ],
   "source": [
    "#Homogeneidad de varianzas (Levene)\n",
    "# Se separan los datos por grupo (tratamiento)\n",
    "lista_grupos = [df.loc[df[\"Tratamiento\"] == trat, \"Factor\"] \n",
    "                for trat in df[\"Tratamiento\"].unique()]\n",
    "\n",
    "levene_median = levene(*lista_grupos, center='median')\n",
    "levene_mean   = levene(*lista_grupos, center='mean')\n",
    "print(\"\\nResultado de la prueba de Levene (centro = mediana):\")\n",
    "print(levene_median)\n",
    "print(\"\\nResultado de la prueba de Levene (centro = media):\")\n",
    "print(levene_mean)\n",
    "## --- Conclusión para Levene:\n",
    "if levene_mean.pvalue > 0.05 and levene_median.pvalue > 0.05:\n",
    "    print(\"\\n[Conclusión Levene]: Se acepta la homogeneidad de varianzas entre los grupos (p > 0.05).\")\n",
    "else:\n",
    "    print(\"\\n[Conclusión Levene]: No se cumple la homogeneidad de varianzas (p < 0.05).\")\n"
   ]
  },
  {
   "cell_type": "markdown",
   "id": "c4880c1c",
   "metadata": {},
   "source": [
    "6.3 Prueba de independencia: estadístico de Durbin-Watson"
   ]
  },
  {
   "cell_type": "code",
   "execution_count": 11,
   "id": "9f620c65",
   "metadata": {},
   "outputs": [
    {
     "name": "stdout",
     "output_type": "stream",
     "text": [
      "\n",
      "Estadístico de Durbin-Watson:\n",
      "2.4022332506203474\n",
      "\n",
      "[Conclusión Durbin-Watson]: No se detecta autocorrelación en los residuales (valor cercano a 2).\n",
      "se tiene evidencia estadisica para afirmar que hay independicia entre los residuos a un nivel significancia del 5%.\n"
     ]
    }
   ],
   "source": [
    "dw = durbin_watson(residuos)\n",
    "print(\"\\nEstadístico de Durbin-Watson:\")\n",
    "print(dw)\n",
    "# --- Conclusión Durbin-Watson:\n",
    "if 1.5 <= dw <= 2.5:\n",
    "    print(\"\\n[Conclusión Durbin-Watson]: No se detecta autocorrelación en los residuales (valor cercano a 2).\")\n",
    "    print(\"se tiene evidencia estadisica para afirmar que hay independicia entre los residuos a un nivel significancia del 5%.\")\n",
    "else:\n",
    "    print(\"\\n[Conclusión Durbin-Watson]: Posibles indicios de autocorrelación en los residuales.\")"
   ]
  },
  {
   "cell_type": "markdown",
   "id": "d2582e8d",
   "metadata": {},
   "source": [
    "Paso 7 : Confrimacion de la tabla ANOVA e interpretación"
   ]
  },
  {
   "cell_type": "markdown",
   "id": "784ef700",
   "metadata": {},
   "source": [
    "Dado se que cumplen los supuestos de un DCA entonces podemos aplicar ANOVA"
   ]
  },
  {
   "cell_type": "code",
   "execution_count": 12,
   "id": "14154601",
   "metadata": {},
   "outputs": [
    {
     "name": "stdout",
     "output_type": "stream",
     "text": [
      "\n",
      "Tabla ANOVA (confirmación):\n",
      "                sum_sq    df          F    PR(>F)\n",
      "C(Tratamiento)  475.76   4.0  14.756824  0.000009\n",
      "Residual        161.20  20.0        NaN       NaN\n"
     ]
    }
   ],
   "source": [
    "# 8. Confirmación de la tabla ANOVA\n",
    "print(\"\\nTabla ANOVA (confirmación):\")\n",
    "print(anova_table)"
   ]
  },
  {
   "cell_type": "code",
   "execution_count": 13,
   "id": "7f63c4e9",
   "metadata": {},
   "outputs": [
    {
     "name": "stdout",
     "output_type": "stream",
     "text": [
      "p-valor obtenido: 9.12794e-06\n",
      "Nivel de significancia (alpha): 0.05\n",
      "p-valor (9.12794e-06) es menor que el nivel de significancia (0.05), se RECHAZA la hipótesis nula (H₀).\n",
      "Hay suficiente evidencia estadística para afirmar que el factor 'Contenido de algodón' \n",
      " afecta significativamente la variable 'Resistencia a la tension'.\n",
      "Se recomienda proceder con comparaciones post-hoc para identificar qué tratamientos son significativamente diferentes entre sí.\n"
     ]
    }
   ],
   "source": [
    "# Acceder al p-valor usando iloc para evitar la advertencia\n",
    "p_valor = anova_table['PR(>F)'].iloc[0]  # Usamos iloc para obtener el valor por posición\n",
    "alpha = 0.05  # Nivel de significancia\n",
    "# Continuar con el resto del código...\n",
    "print(f\"p-valor obtenido: {p_valor:.5e}\")\n",
    "print(f\"Nivel de significancia (alpha): {alpha:.2f}\")\n",
    "\n",
    "if p_valor < alpha:\n",
    "    print(f\"p-valor ({p_valor:.5e}) es menor que el nivel de significancia ({alpha:.2f}), se RECHAZA la hipótesis nula (H₀).\")\n",
    "    print(f\"Hay suficiente evidencia estadística para afirmar que el factor '{experimento['factor']}' \\n afecta significativamente la variable '{experimento['variable_respuesta']}'.\")\n",
    "    print(\"Se recomienda proceder con comparaciones post-hoc para identificar qué tratamientos son significativamente diferentes entre sí.\")\n",
    "else:\n",
    "    print(f\"p-valor ({p_valor:.5e}) es mayor o igual que el nivel de significancia ({alpha:.2f}), NO se rechaza la hipótesis nula (H₀).\")\n",
    "    print(f\"No se rechaza la hipótesis nula: El factor '{experimento['factor']}'  \\n no tiene un efecto significativo sobre '{experimento['variable_respuesta']}'.\")\n",
    "    print(\"No se recomienda proceder con comparaciones post-hoc, ya que no se encontró evidencia suficiente para justificar que los tratamientos difieren significativamente.\")\n"
   ]
  },
  {
   "cell_type": "markdown",
   "id": "758efeab",
   "metadata": {},
   "source": [
    "Paso 8 : Comparaciones múltiples de medias"
   ]
  },
  {
   "cell_type": "markdown",
   "id": "85f77181",
   "metadata": {},
   "source": [
    "8.1 Prueba de Diferencia Mínima Significativa (LSD) de Fisher:"
   ]
  },
  {
   "cell_type": "code",
   "execution_count": 14,
   "id": "828e4c5c",
   "metadata": {},
   "outputs": [
    {
     "name": "stdout",
     "output_type": "stream",
     "text": [
      "\n",
      "============================================================\n",
      "PRUEBA DE DIFERENCIA MÍNIMA SIGNIFICATIVA (LSD)\n",
      "============================================================\n",
      "\n",
      "Grupo 1    Grupo 2    Diferencia   p-valor    ¿Sig?    Conclusión     \n",
      "-----------------------------------------------------------------\n",
      "15%        20%        -5.6000      0.0257     Sí       '15%' < '20%' (p=0.0257)\n",
      "15%        25%        -7.8000      0.0022     Sí       '15%' < '25%' (p=0.0022)\n",
      "15%        30%        -11.8000     0.0003     Sí       '15%' < '30%' (p=0.0003)\n",
      "15%        35%        -1.0000      0.6254     No       Sin diferencia significativa (p=0.6254)\n",
      "20%        25%        -2.2000      0.2265     No       Sin diferencia significativa (p=0.2265)\n",
      "20%        30%        -6.2000      0.0093     Sí       '20%' < '30%' (p=0.0093)\n",
      "20%        35%        4.6000       0.0416     Sí       '20%' > '35%' (p=0.0416)\n",
      "25%        30%        -4.0000      0.0277     Sí       '25%' < '30%' (p=0.0277)\n",
      "25%        35%        6.8000       0.0026     Sí       '25%' > '35%' (p=0.0026)\n",
      "30%        35%        10.8000      0.0002     Sí       '30%' > '35%' (p=0.0002)\n",
      "\n",
      "============================================================\n",
      "Notas metodológicas:\n",
      "- Nivel de significancia: α = 0.05\n",
      "- Prueba basada en t-test independiente (equivalente a LSD)\n",
      "- Valores p no ajustados para comparaciones múltiples\n",
      "============================================================\n"
     ]
    }
   ],
   "source": [
    "# Realizar la prueba LSD (usando TukeyHSD como aproximación)\n",
    "print(\"\\n\" + \"=\"*60)\n",
    "print(\"PRUEBA DE DIFERENCIA MÍNIMA SIGNIFICATIVA (LSD)\")\n",
    "print(\"=\"*60 + \"\\n\")\n",
    "\n",
    "print(\"{:<10} {:<10} {:<12} {:<10} {:<8} {:<15}\".format(\n",
    "    \"Grupo 1\", \"Grupo 2\", \"Diferencia\", \"p-valor\", \"¿Sig?\", \"Conclusión\"))\n",
    "print(\"-\"*65)\n",
    "\n",
    "# Calcular manualmente las comparaciones LSD\n",
    "from scipy.stats import ttest_ind\n",
    "\n",
    "tratamientos = df['Tratamiento'].unique()\n",
    "for i in range(len(tratamientos)):\n",
    "    for j in range(i+1, len(tratamientos)):\n",
    "        grupo1 = tratamientos[i]\n",
    "        grupo2 = tratamientos[j]\n",
    "        \n",
    "        data1 = df[df['Tratamiento'] == grupo1]['Factor']\n",
    "        data2 = df[df['Tratamiento'] == grupo2]['Factor']\n",
    "        \n",
    "        # Prueba t independiente (equivalente a LSD)\n",
    "        t_stat, p_value = ttest_ind(data1, data2)\n",
    "        meandiff = np.mean(data1) - np.mean(data2)\n",
    "        \n",
    "        # Determinar significancia y dirección\n",
    "        if p_value < 0.05:\n",
    "            significancia = \"Sí\"\n",
    "            if meandiff > 0:\n",
    "                conclusion = f\"'{grupo1}' > '{grupo2}' (p={p_value:.4f})\"\n",
    "            else:\n",
    "                conclusion = f\"'{grupo1}' < '{grupo2}' (p={p_value:.4f})\"\n",
    "        else:\n",
    "            significancia = \"No\"\n",
    "            conclusion = f\"Sin diferencia significativa (p={p_value:.4f})\"\n",
    "        \n",
    "        # Imprimir fila formateada\n",
    "        print(\"{:<10} {:<10} {:<12.4f} {:<10.4f} {:<8} {:<15}\".format(\n",
    "            grupo1, grupo2, meandiff, p_value, significancia, conclusion))\n",
    "\n",
    "# Información adicional\n",
    "print(\"\\n\" + \"=\"*60)\n",
    "print(\"Notas metodológicas:\")\n",
    "print(f\"- Nivel de significancia: α = 0.05\")\n",
    "print(\"- Prueba basada en t-test independiente (equivalente a LSD)\")\n",
    "print(\"- Valores p no ajustados para comparaciones múltiples\")\n",
    "print(\"=\"*60)\n",
    "\n"
   ]
  },
  {
   "cell_type": "markdown",
   "id": "0ed208ff",
   "metadata": {},
   "source": [
    "8.2 Prueba de Tukey para comparaciones múltiples"
   ]
  },
  {
   "cell_type": "code",
   "execution_count": 15,
   "id": "35df0e97",
   "metadata": {},
   "outputs": [
    {
     "name": "stdout",
     "output_type": "stream",
     "text": [
      "\n",
      "Resultado de la prueba de Tukey:\n",
      "Multiple Comparison of Means - Tukey HSD, FWER=0.05\n",
      "===================================================\n",
      "group1 group2 meandiff p-adj   lower  upper  reject\n",
      "---------------------------------------------------\n",
      "   15%    20%      5.6 0.0385   0.227 10.973   True\n",
      "   15%    25%      7.8 0.0026   2.427 13.173   True\n",
      "   15%    30%     11.8    0.0   6.427 17.173   True\n",
      "   15%    35%      1.0 0.9798  -4.373  6.373  False\n",
      "   20%    25%      2.2 0.7372  -3.173  7.573  False\n",
      "   20%    30%      6.2 0.0189   0.827 11.573   True\n",
      "   20%    35%     -4.6 0.1163  -9.973  0.773  False\n",
      "   25%    30%      4.0 0.2101  -1.373  9.373  False\n",
      "   25%    35%     -6.8 0.0091 -12.173 -1.427   True\n",
      "   30%    35%    -10.8 0.0001 -16.173 -5.427   True\n",
      "---------------------------------------------------\n"
     ]
    }
   ],
   "source": [
    "\n",
    "# Realizar la prueba de Tukey\n",
    "print(\"\\nResultado de la prueba de Tukey:\")\n",
    "tukey = pairwise_tukeyhsd(endog=df[\"Factor\"],\n",
    "                          groups=df[\"Tratamiento\"],\n",
    "                          alpha=0.05)\n",
    "\n",
    "# Mostrar el resumen de los resultados de Tukey\n",
    "print(tukey.summary())\n"
   ]
  },
  {
   "cell_type": "markdown",
   "id": "1ae13e8c",
   "metadata": {},
   "source": [
    "8.3 Prueba de Scheffé"
   ]
  },
  {
   "cell_type": "code",
   "execution_count": 16,
   "id": "b907db53",
   "metadata": {},
   "outputs": [
    {
     "name": "stdout",
     "output_type": "stream",
     "text": [
      "\n",
      "======================================================================\n",
      "ANÁLISIS POST-HOC: PRUEBA DE SCHEFFÉ\n",
      "======================================================================\n",
      "\n",
      "➤ Paso 1: Análisis de Varianza (ANOVA)\n",
      "               df  sum_sq  mean_sq          F    PR(>F)\n",
      "Tratamiento   4.0  475.76   118.94  14.756824  0.000009\n",
      "Residual     20.0  161.20     8.06        NaN       NaN\n",
      "\n",
      "➤ Parámetros clave:\n",
      "- Grados libertad tratamientos: 4.0\n",
      "- Grados libertad error: 20.0\n",
      "- Error Cuadrático Medio (MSE): 8.0600\n",
      "- Tamaño de grupo (n): 5\n",
      "\n",
      "➤ Valor F crítico (α=0.05): 2.8661\n",
      "\n",
      "======================================================================\n",
      "COMPARACIONES POR PARES\n",
      "======================================================================\n",
      "Trat.A       Trat.B       Diferencia      F-Scheffé    p-valor    Conclusión           Dirección \n",
      "------------------------------------------------------------------------------------------\n",
      "15%          20%          5.6000          2.4318       0.0812     Sin diferencia significativa A < B     \n",
      "15%          25%          7.8000          4.7177       0.0076     Diferencia significativa A < B     \n",
      "15%          30%          11.8000         10.7971      0.0001     Diferencia significativa A < B     \n",
      "15%          35%          1.0000          0.0775       0.9883     Sin diferencia significativa A < B     \n",
      "20%          25%          2.2000          0.3753       0.8235     Sin diferencia significativa A < B     \n",
      "20%          30%          6.2000          2.9808       0.0441     Diferencia significativa A < B     \n",
      "20%          35%          4.6000          1.6408       0.2032     Sin diferencia significativa A > B     \n",
      "25%          30%          4.0000          1.2407       0.3257     Sin diferencia significativa A < B     \n",
      "25%          35%          6.8000          3.5856       0.0232     Diferencia significativa A > B     \n",
      "30%          35%          10.8000         9.0447       0.0002     Diferencia significativa A > B     \n",
      "\n",
      "======================================================================\n",
      "RESUMEN ESTADÍSTICO\n",
      "======================================================================\n",
      "➤ Comparaciones significativas: 5/10\n",
      "➤ Valor F crítico: 2.8661\n",
      "➤ Nivel de significancia: α = 0.05\n",
      "\n",
      "Resultados completos:\n",
      "Grupo A Grupo B  Diferencia  F-Scheffé  p-valor Significativo Dirección\n",
      "    15%     20%         5.6   2.431762 0.081176            NO     A < B\n",
      "    15%     25%         7.8   4.717742 0.007613            SÍ     A < B\n",
      "    15%     30%        11.8  10.797146 0.000079            SÍ     A < B\n",
      "    15%     35%         1.0   0.077543 0.988295            NO     A < B\n",
      "    20%     25%         2.2   0.375310 0.823486            NO     A < B\n",
      "    20%     30%         6.2   2.980769 0.044113            SÍ     A < B\n",
      "    20%     35%         4.6   1.640819 0.203196            NO     A > B\n",
      "    25%     30%         4.0   1.240695 0.325658            NO     A < B\n",
      "    25%     35%         6.8   3.585608 0.023228            SÍ     A > B\n",
      "    30%     35%        10.8   9.044665 0.000243            SÍ     A > B\n"
     ]
    }
   ],
   "source": [
    "# ==============================================\n",
    "# ANÁLISIS ESTADÍSTICO - PRUEBA DE SCHEFFÉ\n",
    "# ==============================================\n",
    "\n",
    "print(\"\\n\" + \"=\"*70)\n",
    "print(\"ANÁLISIS POST-HOC: PRUEBA DE SCHEFFÉ\")\n",
    "print(\"=\"*70 + \"\\n\")\n",
    "\n",
    "# 1. Modelo ANOVA\n",
    "print(\"➤ Paso 1: Análisis de Varianza (ANOVA)\")\n",
    "modelo = ols('Factor ~ Tratamiento', data=df).fit()\n",
    "anova_resultado = anova_lm(modelo)\n",
    "print(anova_resultado)\n",
    "\n",
    "# 2. Cálculo de parámetros clave\n",
    "MSE = anova_resultado['mean_sq']['Residual']\n",
    "gl_tratamientos = anova_resultado['df']['Tratamiento']\n",
    "gl_error = anova_resultado['df']['Residual']\n",
    "n_grupo = len(df) // len(df['Tratamiento'].unique())\n",
    "\n",
    "print(f\"\\n➤ Parámetros clave:\")\n",
    "print(f\"- Grados libertad tratamientos: {gl_tratamientos}\")\n",
    "print(f\"- Grados libertad error: {gl_error}\")\n",
    "print(f\"- Error Cuadrático Medio (MSE): {MSE:.4f}\")\n",
    "print(f\"- Tamaño de grupo (n): {n_grupo}\")\n",
    "\n",
    "# 3. Valor crítico de Scheffé\n",
    "f_critico = f.ppf(0.95, gl_tratamientos, gl_error)\n",
    "print(f\"\\n➤ Valor F crítico (α=0.05): {f_critico:.4f}\")\n",
    "\n",
    "# 4. Comparaciones por pares\n",
    "medias = df.groupby(\"Tratamiento\")[\"Factor\"].mean()\n",
    "comparaciones = []\n",
    "\n",
    "print(\"\\n\" + \"=\"*70)\n",
    "print(\"COMPARACIONES POR PARES\")\n",
    "print(\"=\"*70)\n",
    "print(\"{:<12} {:<12} {:<15} {:<12} {:<10} {:<20} {:<10}\".format(\n",
    "    \"Trat.A\", \"Trat.B\", \"Diferencia\", \"F-Scheffé\", \"p-valor\", \"Conclusión\", \"Dirección\"))\n",
    "print(\"-\"*90)\n",
    "\n",
    "for i in range(len(medias)):\n",
    "    for j in range(i+1, len(medias)):\n",
    "        grupoA = medias.index[i]\n",
    "        grupoB = medias.index[j]\n",
    "        diff = medias.iloc[i] - medias.iloc[j]\n",
    "        \n",
    "        # Cálculo del estadístico F de Scheffé\n",
    "        F_scheffe = (diff**2) / (MSE * (1/n_grupo + 1/n_grupo) * gl_tratamientos)\n",
    "        p_value = 1 - f.cdf(F_scheffe, gl_tratamientos, gl_error)\n",
    "        \n",
    "        # Determinación de significancia\n",
    "        if p_value < 0.05:\n",
    "            sig = \"SÍ\"\n",
    "            concl = \"Diferencia significativa\"\n",
    "        else:\n",
    "            sig = \"NO\"\n",
    "            concl = \"Sin diferencia significativa\"\n",
    "        \n",
    "        # Dirección del efecto\n",
    "        direccion = \"A > B\" if diff > 0 else \"A < B\"\n",
    "        \n",
    "        # Almacenar resultados\n",
    "        comparaciones.append({\n",
    "            'Grupo A': grupoA,\n",
    "            'Grupo B': grupoB,\n",
    "            'Diferencia': abs(diff),\n",
    "            'F-Scheffé': F_scheffe,\n",
    "            'p-valor': p_value,\n",
    "            'Significativo': sig,\n",
    "            'Dirección': direccion\n",
    "        })\n",
    "        \n",
    "        # Imprimir fila formateada\n",
    "        print(\"{:<12} {:<12} {:<15.4f} {:<12.4f} {:<10.4f} {:<20} {:<10}\".format(\n",
    "            grupoA, grupoB, abs(diff), F_scheffe, p_value, concl, direccion))\n",
    "\n",
    "# 5. Resumen estadístico\n",
    "print(\"\\n\" + \"=\"*70)\n",
    "print(\"RESUMEN ESTADÍSTICO\")\n",
    "print(\"=\"*70)\n",
    "print(f\"➤ Comparaciones significativas: {sum(1 for c in comparaciones if c['Significativo'] == 'SÍ')}/{len(comparaciones)}\")\n",
    "print(f\"➤ Valor F crítico: {f_critico:.4f}\")\n",
    "print(f\"➤ Nivel de significancia: α = 0.05\")\n",
    "\n",
    "# 6. Exportar resultados\n",
    "resultados_df = pd.DataFrame(comparaciones)\n",
    "print(\"\\nResultados completos:\")\n",
    "print(resultados_df.to_string(index=False))\n"
   ]
  },
  {
   "cell_type": "markdown",
   "id": "ca19487e",
   "metadata": {},
   "source": [
    "8.4 Prueba de Duncan"
   ]
  },
  {
   "cell_type": "code",
   "execution_count": 17,
   "id": "f26d0af5",
   "metadata": {},
   "outputs": [
    {
     "name": "stdout",
     "output_type": "stream",
     "text": [
      "\n",
      "======================================================================\n",
      "ANÁLISIS POST-HOC: PRUEBA DE DUNCAN\n",
      "======================================================================\n",
      "\n",
      "➤ Medias de tratamientos ordenadas:\n",
      "Tratamiento\n",
      "30%    21.6\n",
      "25%    17.6\n",
      "20%    15.4\n",
      "35%    10.8\n",
      "15%     9.8\n",
      "\n",
      "➤ Rangos significativos de Duncan:\n",
      "p=2: Rango crítico = 0.1223\n",
      "p=3: Rango crítico = 0.1471\n",
      "p=4: Rango crítico = 0.1620\n",
      "p=5: Rango crítico = 0.1725\n",
      "\n",
      "======================================================================\n",
      "COMPARACIONES POR PARES\n",
      "======================================================================\n",
      "Tratamiento  Comparado con Diferencia      Rango crítico Signif.    Conclusión          \n",
      "-------------------------------------------------------------------------------------\n",
      "30%          25%          4.0000          0.1223       SÍ         Diferencia significativa (p=2)\n",
      "30%          20%          6.2000          0.1471       SÍ         Diferencia significativa (p=3)\n",
      "30%          35%          10.8000         0.1620       SÍ         Diferencia significativa (p=4)\n",
      "30%          15%          11.8000         0.1725       SÍ         Diferencia significativa (p=5)\n",
      "25%          20%          2.2000          0.1223       SÍ         Diferencia significativa (p=2)\n",
      "25%          35%          6.8000          0.1471       SÍ         Diferencia significativa (p=3)\n",
      "25%          15%          7.8000          0.1620       SÍ         Diferencia significativa (p=4)\n",
      "20%          35%          4.6000          0.1223       SÍ         Diferencia significativa (p=2)\n",
      "20%          15%          5.6000          0.1471       SÍ         Diferencia significativa (p=3)\n",
      "35%          15%          1.0000          0.1223       SÍ         Diferencia significativa (p=2)\n",
      "\n",
      "======================================================================\n",
      "RESUMEN ESTADÍSTICO\n",
      "======================================================================\n",
      "➤ Nivel de significancia: α = 0.05\n",
      "➤ Error Cuadrático Medio (MSE): 0.0092\n",
      "➤ Grados de libertad del error: 44\n",
      "➤ Número de observaciones por grupo: 5\n",
      "\n",
      "Resultados completos:\n",
      "Grupo Superior Grupo Inferior  Diferencia  Rango crítico  p (pasos) Significativo\n",
      "           30%            25%         4.0       0.122258          2            SÍ\n",
      "           30%            20%         6.2       0.147133          3            SÍ\n",
      "           30%            35%        10.8       0.161982          4            SÍ\n",
      "           30%            15%        11.8       0.172541          5            SÍ\n",
      "           25%            20%         2.2       0.122258          2            SÍ\n",
      "           25%            35%         6.8       0.147133          3            SÍ\n",
      "           25%            15%         7.8       0.161982          4            SÍ\n",
      "           20%            35%         4.6       0.122258          2            SÍ\n",
      "           20%            15%         5.6       0.147133          3            SÍ\n",
      "           35%            15%         1.0       0.122258          2            SÍ\n"
     ]
    }
   ],
   "source": [
    "# ==============================================\n",
    "# ANÁLISIS ESTADÍSTICO - PRUEBA DE DUNCAN\n",
    "# ==============================================\n",
    "\n",
    "print(\"\\n\" + \"=\"*70)\n",
    "print(\"ANÁLISIS POST-HOC: PRUEBA DE DUNCAN\")\n",
    "print(\"=\"*70 + \"\\n\")\n",
    "\n",
    "# 1. Calcular parámetros básicos\n",
    "n_groups = len(df['Tratamiento'].unique())\n",
    "group_means = df.groupby('Tratamiento')['Factor'].mean().sort_values(ascending=False)\n",
    "n_obs = len(df) / n_groups\n",
    "MSE = 0.0092  # Valor del ANOVA anterior\n",
    "df_error = 44  # Grados de libertad del error\n",
    "\n",
    "print(\"➤ Medias de tratamientos ordenadas:\")\n",
    "print(group_means.to_string())\n",
    "\n",
    "# 2. Calcular rangos significativos\n",
    "print(\"\\n➤ Rangos significativos de Duncan:\")\n",
    "alpha = 0.05\n",
    "ranges = {}\n",
    "\n",
    "for p in range(2, n_groups + 1):\n",
    "    q = qsturng(1 - alpha, p, df_error)\n",
    "    sr = q * np.sqrt(MSE / n_obs)\n",
    "    ranges[p] = sr\n",
    "    print(f\"p={p}: Rango crítico = {sr:.4f}\")\n",
    "\n",
    "# 3. Realizar comparaciones\n",
    "print(\"\\n\" + \"=\"*70)\n",
    "print(\"COMPARACIONES POR PARES\")\n",
    "print(\"=\"*70)\n",
    "print(\"{:<12} {:<12} {:<15} {:<12} {:<10} {:<20}\".format(\n",
    "    \"Tratamiento\", \"Comparado con\", \"Diferencia\", \"Rango crítico\", \"Signif.\", \"Conclusión\"))\n",
    "print(\"-\"*85)\n",
    "\n",
    "results = []\n",
    "groups = group_means.index.tolist()\n",
    "\n",
    "for i in range(len(groups)):\n",
    "    for j in range(i + 1, len(groups)):\n",
    "        group1 = groups[i]\n",
    "        group2 = groups[j]\n",
    "        diff = group_means[group1] - group_means[group2]\n",
    "        p = j - i + 1  # Número de pasos entre medias\n",
    "        critical = ranges[p]\n",
    "        \n",
    "        if diff > critical:\n",
    "            sig = \"SÍ\"\n",
    "            concl = f\"Diferencia significativa (p={p})\"\n",
    "        else:\n",
    "            sig = \"NO\"\n",
    "            concl = \"No significativa\"\n",
    "        \n",
    "        results.append({\n",
    "            'Grupo Superior': group1,\n",
    "            'Grupo Inferior': group2,\n",
    "            'Diferencia': diff,\n",
    "            'Rango crítico': critical,\n",
    "            'p (pasos)': p,\n",
    "            'Significativo': sig\n",
    "        })\n",
    "        \n",
    "        print(\"{:<12} {:<12} {:<15.4f} {:<12.4f} {:<10} {:<20}\".format(\n",
    "            group1, group2, diff, critical, sig, concl))\n",
    "\n",
    "# 4. Resumen estadístico\n",
    "print(\"\\n\" + \"=\"*70)\n",
    "print(\"RESUMEN ESTADÍSTICO\")\n",
    "print(\"=\"*70)\n",
    "print(f\"➤ Nivel de significancia: α = {alpha}\")\n",
    "print(f\"➤ Error Cuadrático Medio (MSE): {MSE:.4f}\")\n",
    "print(f\"➤ Grados de libertad del error: {df_error}\")\n",
    "print(f\"➤ Número de observaciones por grupo: {n_obs:.0f}\")\n",
    "\n",
    "# 5. Resultados en DataFrame\n",
    "results_df = pd.DataFrame(results)\n",
    "print(\"\\nResultados completos:\")\n",
    "print(results_df.to_string(index=False))\n"
   ]
  }
 ],
 "metadata": {
  "kernelspec": {
   "display_name": "Python 3",
   "language": "python",
   "name": "python3"
  },
  "language_info": {
   "codemirror_mode": {
    "name": "ipython",
    "version": 3
   },
   "file_extension": ".py",
   "mimetype": "text/x-python",
   "name": "python",
   "nbconvert_exporter": "python",
   "pygments_lexer": "ipython3",
   "version": "3.13.2"
  }
 },
 "nbformat": 4,
 "nbformat_minor": 5
}
