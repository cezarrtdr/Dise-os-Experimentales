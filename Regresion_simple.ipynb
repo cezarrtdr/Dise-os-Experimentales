{
 "cells": [
  {
   "cell_type": "markdown",
   "id": "8ad10c68",
   "metadata": {},
   "source": [
    "# Regresión Lineal Simple\n",
    "\n",
    "## Modelo Básico\n",
    "Ecuación principal:  \n",
    "$$ Y = \\beta_0 + \\beta_1 X + \\epsilon $$  \n",
    "\n",
    "- **Y**: Variable respuesta  \n",
    "- **X**: Variable predictora  \n",
    "- **β₀**: Intercepto  \n",
    "- **β₁**: Pendiente  \n",
    "- **ε**: Error aleatorio (residuos)  \n",
    "\n",
    "## Supuestos Clave\n",
    "1. **Linealidad**: Relación recta entre X e Y  \n",
    "2. **Normalidad**: Residuos ~ N(0, σ²)  \n",
    "3. **Homocedasticidad**: Varianza constante de residuos  \n",
    "4. **Independencia**: Residuos no correlacionados  \n",
    "\n",
    "## Estimación (MCO)\n",
    "Fórmulas para calcular los coeficientes:  \n",
    "\n",
    "$$ \\hat{\\beta}_1 = \\frac{\\sum (X_i - \\bar{X})(Y_i - \\bar{Y})}{\\sum (X_i - \\bar{X})^2} $$  \n",
    "\n",
    "$$ \\hat{\\beta}_0 = \\bar{Y} - \\hat{\\beta}_1 \\bar{X} $$  \n",
    "\n",
    "## Bondad de Ajuste\n",
    "**R²**: Proporción de varianza explicada  \n",
    "$$ R^2 = 1 - \\frac{SSR}{SST} $$  \n",
    "- SSR: Suma de cuadrados de residuos  \n",
    "- SST: Suma de cuadrados total  "
   ]
  },
  {
   "cell_type": "markdown",
   "id": "d858b6d4",
   "metadata": {},
   "source": [
    "Importamos Libreías :"
   ]
  },
  {
   "cell_type": "code",
   "execution_count": 62,
   "id": "6bdf37dc",
   "metadata": {},
   "outputs": [],
   "source": [
    "import pandas as pd \n",
    "import numpy as np \n",
    "import matplotlib.pyplot as plt\n",
    "import seaborn as sns   \n"
   ]
  },
  {
   "cell_type": "markdown",
   "id": "a192e85a",
   "metadata": {},
   "source": [
    "Dataset:"
   ]
  },
  {
   "cell_type": "code",
   "execution_count": 63,
   "id": "a8bfe4dc",
   "metadata": {},
   "outputs": [
    {
     "name": "stdout",
     "output_type": "stream",
     "text": [
      "   Tree  age  circumference  Column1\n",
      "0     1    1            118       30\n",
      "1     2    1            484       58\n",
      "2     3    1            664       87\n",
      "3     4    1           1004      115\n",
      "4     5    1           1231      120\n",
      "5     6    1           1372      142\n",
      "6     7    1           1582      145\n",
      "7     8    2            118       33\n",
      "8     9    2            484       69\n",
      "9    10    2            664      111\n"
     ]
    }
   ],
   "source": [
    "df = pd.read_excel(\"Orange_Dataset.xlsx\")\n",
    "print(df.head(10))"
   ]
  },
  {
   "cell_type": "markdown",
   "id": "afc745c4",
   "metadata": {},
   "source": [
    "Estadística Descriptiva : "
   ]
  },
  {
   "cell_type": "code",
   "execution_count": 64,
   "id": "7ac48bd1",
   "metadata": {},
   "outputs": [
    {
     "data": {
      "application/vnd.microsoft.datawrangler.viewer.v0+json": {
       "columns": [
        {
         "name": "index",
         "rawType": "object",
         "type": "string"
        },
        {
         "name": "Tree",
         "rawType": "float64",
         "type": "float"
        },
        {
         "name": "age",
         "rawType": "float64",
         "type": "float"
        },
        {
         "name": "circumference",
         "rawType": "float64",
         "type": "float"
        },
        {
         "name": "Column1",
         "rawType": "float64",
         "type": "float"
        }
       ],
       "ref": "65604c73-8771-4ac4-8434-5e6909a4fb0c",
       "rows": [
        [
         "count",
         "35.0",
         "35.0",
         "35.0",
         "35.0"
        ],
        [
         "mean",
         "18.0",
         "3.0",
         "922.1428571428571",
         "115.85714285714286"
        ],
        [
         "std",
         "10.246950765959598",
         "1.4348601079588785",
         "491.86452838735414",
         "57.48817927454757"
        ],
        [
         "min",
         "1.0",
         "1.0",
         "118.0",
         "30.0"
        ],
        [
         "25%",
         "9.5",
         "2.0",
         "484.0",
         "65.5"
        ],
        [
         "50%",
         "18.0",
         "3.0",
         "1004.0",
         "115.0"
        ],
        [
         "75%",
         "26.5",
         "4.0",
         "1372.0",
         "161.5"
        ],
        [
         "max",
         "35.0",
         "5.0",
         "1582.0",
         "214.0"
        ]
       ],
       "shape": {
        "columns": 4,
        "rows": 8
       }
      },
      "text/html": [
       "<div>\n",
       "<style scoped>\n",
       "    .dataframe tbody tr th:only-of-type {\n",
       "        vertical-align: middle;\n",
       "    }\n",
       "\n",
       "    .dataframe tbody tr th {\n",
       "        vertical-align: top;\n",
       "    }\n",
       "\n",
       "    .dataframe thead th {\n",
       "        text-align: right;\n",
       "    }\n",
       "</style>\n",
       "<table border=\"1\" class=\"dataframe\">\n",
       "  <thead>\n",
       "    <tr style=\"text-align: right;\">\n",
       "      <th></th>\n",
       "      <th>Tree</th>\n",
       "      <th>age</th>\n",
       "      <th>circumference</th>\n",
       "      <th>Column1</th>\n",
       "    </tr>\n",
       "  </thead>\n",
       "  <tbody>\n",
       "    <tr>\n",
       "      <th>count</th>\n",
       "      <td>35.000000</td>\n",
       "      <td>35.00000</td>\n",
       "      <td>35.000000</td>\n",
       "      <td>35.000000</td>\n",
       "    </tr>\n",
       "    <tr>\n",
       "      <th>mean</th>\n",
       "      <td>18.000000</td>\n",
       "      <td>3.00000</td>\n",
       "      <td>922.142857</td>\n",
       "      <td>115.857143</td>\n",
       "    </tr>\n",
       "    <tr>\n",
       "      <th>std</th>\n",
       "      <td>10.246951</td>\n",
       "      <td>1.43486</td>\n",
       "      <td>491.864528</td>\n",
       "      <td>57.488179</td>\n",
       "    </tr>\n",
       "    <tr>\n",
       "      <th>min</th>\n",
       "      <td>1.000000</td>\n",
       "      <td>1.00000</td>\n",
       "      <td>118.000000</td>\n",
       "      <td>30.000000</td>\n",
       "    </tr>\n",
       "    <tr>\n",
       "      <th>25%</th>\n",
       "      <td>9.500000</td>\n",
       "      <td>2.00000</td>\n",
       "      <td>484.000000</td>\n",
       "      <td>65.500000</td>\n",
       "    </tr>\n",
       "    <tr>\n",
       "      <th>50%</th>\n",
       "      <td>18.000000</td>\n",
       "      <td>3.00000</td>\n",
       "      <td>1004.000000</td>\n",
       "      <td>115.000000</td>\n",
       "    </tr>\n",
       "    <tr>\n",
       "      <th>75%</th>\n",
       "      <td>26.500000</td>\n",
       "      <td>4.00000</td>\n",
       "      <td>1372.000000</td>\n",
       "      <td>161.500000</td>\n",
       "    </tr>\n",
       "    <tr>\n",
       "      <th>max</th>\n",
       "      <td>35.000000</td>\n",
       "      <td>5.00000</td>\n",
       "      <td>1582.000000</td>\n",
       "      <td>214.000000</td>\n",
       "    </tr>\n",
       "  </tbody>\n",
       "</table>\n",
       "</div>"
      ],
      "text/plain": [
       "            Tree       age  circumference     Column1\n",
       "count  35.000000  35.00000      35.000000   35.000000\n",
       "mean   18.000000   3.00000     922.142857  115.857143\n",
       "std    10.246951   1.43486     491.864528   57.488179\n",
       "min     1.000000   1.00000     118.000000   30.000000\n",
       "25%     9.500000   2.00000     484.000000   65.500000\n",
       "50%    18.000000   3.00000    1004.000000  115.000000\n",
       "75%    26.500000   4.00000    1372.000000  161.500000\n",
       "max    35.000000   5.00000    1582.000000  214.000000"
      ]
     },
     "execution_count": 64,
     "metadata": {},
     "output_type": "execute_result"
    }
   ],
   "source": [
    "df.describe()   "
   ]
  },
  {
   "cell_type": "markdown",
   "id": "08fb0088",
   "metadata": {},
   "source": [
    "Correlación del DataFrame: "
   ]
  },
  {
   "cell_type": "code",
   "execution_count": 65,
   "id": "76173c7b",
   "metadata": {},
   "outputs": [
    {
     "data": {
      "application/vnd.microsoft.datawrangler.viewer.v0+json": {
       "columns": [
        {
         "name": "index",
         "rawType": "object",
         "type": "string"
        },
        {
         "name": "Tree",
         "rawType": "float64",
         "type": "float"
        },
        {
         "name": "age",
         "rawType": "float64",
         "type": "float"
        },
        {
         "name": "circumference",
         "rawType": "float64",
         "type": "float"
        },
        {
         "name": "Column1",
         "rawType": "float64",
         "type": "float"
        }
       ],
       "ref": "537002e4-29bb-42b7-a5e6-f2b77efd30be",
       "rows": [
        [
         "Tree",
         "1.0",
         "0.9801960588196067",
         "0.19651175488053912",
         "0.24564785826647412"
        ],
        [
         "age",
         "0.9801960588196067",
         "1.0",
         "-2.1793853929519248e-16",
         "0.0677464540045984"
        ],
        [
         "circumference",
         "0.19651175488053912",
         "-2.1793853929519248e-16",
         "1.0",
         "0.9135188528915914"
        ],
        [
         "Column1",
         "0.24564785826647412",
         "0.0677464540045984",
         "0.9135188528915914",
         "1.0"
        ]
       ],
       "shape": {
        "columns": 4,
        "rows": 4
       }
      },
      "text/html": [
       "<div>\n",
       "<style scoped>\n",
       "    .dataframe tbody tr th:only-of-type {\n",
       "        vertical-align: middle;\n",
       "    }\n",
       "\n",
       "    .dataframe tbody tr th {\n",
       "        vertical-align: top;\n",
       "    }\n",
       "\n",
       "    .dataframe thead th {\n",
       "        text-align: right;\n",
       "    }\n",
       "</style>\n",
       "<table border=\"1\" class=\"dataframe\">\n",
       "  <thead>\n",
       "    <tr style=\"text-align: right;\">\n",
       "      <th></th>\n",
       "      <th>Tree</th>\n",
       "      <th>age</th>\n",
       "      <th>circumference</th>\n",
       "      <th>Column1</th>\n",
       "    </tr>\n",
       "  </thead>\n",
       "  <tbody>\n",
       "    <tr>\n",
       "      <th>Tree</th>\n",
       "      <td>1.000000</td>\n",
       "      <td>9.801961e-01</td>\n",
       "      <td>1.965118e-01</td>\n",
       "      <td>0.245648</td>\n",
       "    </tr>\n",
       "    <tr>\n",
       "      <th>age</th>\n",
       "      <td>0.980196</td>\n",
       "      <td>1.000000e+00</td>\n",
       "      <td>-2.179385e-16</td>\n",
       "      <td>0.067746</td>\n",
       "    </tr>\n",
       "    <tr>\n",
       "      <th>circumference</th>\n",
       "      <td>0.196512</td>\n",
       "      <td>-2.179385e-16</td>\n",
       "      <td>1.000000e+00</td>\n",
       "      <td>0.913519</td>\n",
       "    </tr>\n",
       "    <tr>\n",
       "      <th>Column1</th>\n",
       "      <td>0.245648</td>\n",
       "      <td>6.774645e-02</td>\n",
       "      <td>9.135189e-01</td>\n",
       "      <td>1.000000</td>\n",
       "    </tr>\n",
       "  </tbody>\n",
       "</table>\n",
       "</div>"
      ],
      "text/plain": [
       "                   Tree           age  circumference   Column1\n",
       "Tree           1.000000  9.801961e-01   1.965118e-01  0.245648\n",
       "age            0.980196  1.000000e+00  -2.179385e-16  0.067746\n",
       "circumference  0.196512 -2.179385e-16   1.000000e+00  0.913519\n",
       "Column1        0.245648  6.774645e-02   9.135189e-01  1.000000"
      ]
     },
     "execution_count": 65,
     "metadata": {},
     "output_type": "execute_result"
    }
   ],
   "source": [
    "df.corr()"
   ]
  },
  {
   "cell_type": "markdown",
   "id": "58c26d6b",
   "metadata": {},
   "source": [
    "Visualización de las correlaciones en un mapa de calor"
   ]
  },
  {
   "cell_type": "code",
   "execution_count": 66,
   "id": "4c93e243",
   "metadata": {},
   "outputs": [
    {
     "data": {
      "image/png": "[encoded data removed]",
      "text/plain": [
       "<Figure size 800x600 with 2 Axes>"
      ]
     },
     "metadata": {},
     "output_type": "display_data"
    }
   ],
   "source": [
    "plt.figure(figsize=(8, 6))\n",
    "sns.heatmap(df.corr(), annot=True, cmap='coolwarm', fmt='.2f')\n",
    "plt.title('Correlation Heatmap')\n",
    "plt.show()"
   ]
  },
  {
   "cell_type": "markdown",
   "id": "dbc6d061",
   "metadata": {},
   "source": [
    "Agrupamos los datos con lo cuales trabajaremos:"
   ]
  },
  {
   "cell_type": "code",
   "execution_count": 67,
   "id": "9294994c",
   "metadata": {},
   "outputs": [],
   "source": [
    "x_datos= df[\"circumference\"].values\n",
    "y_datos=df[\"Column1\"].values"
   ]
  },
  {
   "cell_type": "markdown",
   "id": "3ec9c46c",
   "metadata": {},
   "source": [
    "Gráfica de dispersión con línea de regresión:"
   ]
  },
  {
   "cell_type": "code",
   "execution_count": 68,
   "id": "422eab39",
   "metadata": {},
   "outputs": [
    {
     "data": {
      "text/plain": [
       "<Figure size 1000x600 with 0 Axes>"
      ]
     },
     "metadata": {},
     "output_type": "display_data"
    },
    {
     "data": {
      "image/png": "[encoded data removed]",
      "text/plain": [
       "<Figure size 500x500 with 1 Axes>"
      ]
     },
     "metadata": {},
     "output_type": "display_data"
    }
   ],
   "source": [
    "plt.figure(figsize=(10, 6))\n",
    "sns.lmplot(data=df, x='Column1', y='circumference', line_kws={'color': 'red'})\n",
    "plt.title('Correlación con Línea de Regresión')\n",
    "plt.grid(True)\n",
    "plt.show()"
   ]
  },
  {
   "cell_type": "markdown",
   "id": "4c9c3098",
   "metadata": {},
   "source": [
    "Modelo de Regresión Lineal:"
   ]
  },
  {
   "cell_type": "code",
   "execution_count": 69,
   "id": "6f1d8b61",
   "metadata": {},
   "outputs": [
    {
     "name": "stdout",
     "output_type": "stream",
     "text": [
      "Intercepto (β0): 17.40\n",
      "Coeficiente (β1): 0.11\n",
      "MSE: 531.28\n",
      "R²: 0.83\n"
     ]
    },
    {
     "data": {
      "image/png": "[encoded data removed]",
      "text/plain": [
       "<Figure size 800x600 with 1 Axes>"
      ]
     },
     "metadata": {},
     "output_type": "display_data"
    }
   ],
   "source": [
    "\n",
    "from sklearn.linear_model import LinearRegression\n",
    "from sklearn.metrics import mean_squared_error, r2_score\n",
    "\n",
    "# Datos\n",
    "X = np.array(x_datos).reshape(-1, 1)\n",
    "Y = np.array(y_datos)\n",
    "\n",
    "# Entrenar modelo\n",
    "model = LinearRegression()\n",
    "model.fit(X, Y)\n",
    "\n",
    "# Predicciones y errores\n",
    "Y_pred = model.predict(X)\n",
    "residuos = Y - Y_pred  #  (residuos)\n",
    "\n",
    "# Métricas\n",
    "mse = mean_squared_error(Y, Y_pred)\n",
    "r2 = r2_score(Y, Y_pred)\n",
    "\n",
    "# Coeficientes\n",
    "print(f\"Intercepto (β0): {model.intercept_:.2f}\")\n",
    "print(f\"Coeficiente (β1): {model.coef_[0]:.2f}\")\n",
    "print(f\"MSE: {mse:.2f}\")\n",
    "print(f\"R²: {r2:.2f}\")\n",
    "\n",
    "# Gráfica\n",
    "plt.figure(figsize=(8, 6))\n",
    "plt.scatter(X, Y, color='blue', label='Datos reales')\n",
    "plt.plot(X, Y_pred, color='red', label=f'Regresión: Y = {model.intercept_:.2f} + {model.coef_[0]:.2f}X')\n",
    "plt.xlabel('X (Variable Independiente)')\n",
    "plt.ylabel('Y (Variable Dependiente)')\n",
    "plt.title('Regresión Lineal y Residuos')\n",
    "plt.legend()\n",
    "\n",
    "# Mostrar residuos como líneas verticales\n",
    "for xi, yi, yp in zip(X, Y, Y_pred):\n",
    "    plt.plot([xi, xi], [yi, yp], color='gray', linestyle='--', alpha=0.5)\n",
    "\n",
    "plt.grid(True)\n",
    "plt.show()\n",
    "\n"
   ]
  },
  {
   "cell_type": "markdown",
   "id": "25ee23d1",
   "metadata": {},
   "source": [
    "Residuos:"
   ]
  },
  {
   "cell_type": "code",
   "execution_count": 79,
   "id": "82d9f0b4",
   "metadata": {},
   "outputs": [
    {
     "name": "stdout",
     "output_type": "stream",
     "text": [
      "\n",
      "Tabla de Errores:\n",
      "       X  Y Real  Y Predicho  Error (Residuo)  Error Cuadrático\n",
      "0    118      30   29.998549         0.001451          0.000002\n",
      "1    484      58   69.076488       -11.076488        122.688577\n",
      "2    664      87   88.295146        -1.295146          1.677403\n",
      "3   1004     115  124.597057        -9.597057         92.103496\n",
      "4   1231     120  148.833920       -28.833920        831.394966\n",
      "5   1372     142  163.888536       -21.888536        479.108018\n",
      "6   1582     145  186.310304       -41.310304       1706.541258\n",
      "7    118      33   29.998549         3.001451          9.008711\n",
      "8    484      69   69.076488        -0.076488          0.005850\n",
      "9    664     111   88.295146        22.704854        515.510391\n",
      "10  1004     156  124.597057        31.402943        986.144854\n",
      "11  1231     172  148.833920        23.166080        536.667244\n",
      "12  1372     203  163.888536        39.111464       1529.706598\n",
      "13  1582     203  186.310304        16.689696        278.545936\n",
      "14   118      30   29.998549         0.001451          0.000002\n",
      "15   484      51   69.076488       -18.076488        326.759403\n",
      "16   664      75   88.295146       -13.295146        176.760909\n",
      "17  1004     108  124.597057       -16.597057        275.462288\n",
      "18  1231     115  148.833920       -33.833920       1144.734170\n",
      "19  1372     139  163.888536       -24.888536        619.439236\n",
      "20  1582     140  186.310304       -46.310304       2144.644303\n",
      "21   118      32   29.998549         2.001451          4.005808\n",
      "22   484      62   69.076488        -7.076488         50.076676\n",
      "23   664     112   88.295146        23.704854        561.920099\n",
      "24  1004     167  124.597057        42.402943       1798.009608\n",
      "25  1231     179  148.833920        30.166080        909.992358\n",
      "26  1372     209  163.888536        45.111464       2035.044163\n",
      "27  1582     214  186.310304        27.689696        766.719237\n",
      "28   118      30   29.998549         0.001451          0.000002\n",
      "29   484      49   69.076488       -20.076488        403.065353\n",
      "30   664      81   88.295146        -7.295146         53.219156\n",
      "31  1004     125  124.597057         0.402943          0.162363\n",
      "32  1231     142  148.833920        -6.833920         46.702468\n",
      "33  1372     174  163.888536        10.111464        102.241699\n",
      "34  1582     177  186.310304        -9.310304         86.681770\n"
     ]
    }
   ],
   "source": [
    "# Tabla de errores (residuos)\n",
    "tabla_errores = pd.DataFrame({\n",
    "    'X': X.flatten(),\n",
    "    'Y Real': Y,\n",
    "    'Y Predicho': Y_pred,\n",
    "    'Error (Residuo)': residuos,\n",
    "    'Error Cuadrático': residuos**2\n",
    "})\n",
    "\n",
    "print(\"\\nTabla de Errores:\")\n",
    "print(tabla_errores)"
   ]
  },
  {
   "cell_type": "code",
   "execution_count": 78,
   "id": "495d3a0f",
   "metadata": {},
   "outputs": [
    {
     "data": {
      "text/plain": [
       "<Figure size 1000x600 with 0 Axes>"
      ]
     },
     "metadata": {},
     "output_type": "display_data"
    },
    {
     "data": {
      "image/png": "[encoded data removed]",
      "text/plain": [
       "<Figure size 600x400 with 1 Axes>"
      ]
     },
     "metadata": {},
     "output_type": "display_data"
    }
   ],
   "source": [
    "#grafico de los residuos\n",
    "plt.figure(figsize=(10, 6))\n",
    "plt.figure(figsize=(6, 4))\n",
    "plt.plot(residuos, marker='o', linestyle='None')\n",
    "plt.axhline(0, color='red', linestyle='--')\n",
    "plt.title('Gráfico de Residuos')\n",
    "plt.xlabel('Índice de Observación')\n",
    "plt.ylabel('Residuo')\n",
    "plt.grid(True)\n",
    "plt.show()\n"
   ]
  },
  {
   "cell_type": "markdown",
   "id": "62eeed00",
   "metadata": {},
   "source": [
    "Resumen de la regresión:"
   ]
  },
  {
   "cell_type": "code",
   "execution_count": null,
   "id": "16169a3d",
   "metadata": {},
   "outputs": [
    {
     "name": "stdout",
     "output_type": "stream",
     "text": [
      "                            OLS Regression Results                            \n",
      "==============================================================================\n",
      "Dep. Variable:                      y   R-squared:                       0.835\n",
      "Model:                            OLS   Adj. R-squared:                  0.830\n",
      "Method:                 Least Squares   F-statistic:                     166.4\n",
      "Date:               jue, 26 Jun. 2025   Prob (F-statistic):           1.93e-14\n",
      "Time:                        19:40:23   Log-Likelihood:                -159.48\n",
      "No. Observations:                  35   AIC:                             323.0\n",
      "Df Residuals:                      33   BIC:                             326.1\n",
      "Df Model:                           1                                         \n",
      "Covariance Type:            nonrobust                                         \n",
      "==============================================================================\n",
      "                 coef    std err          t      P>|t|      [0.025      0.975]\n",
      "------------------------------------------------------------------------------\n",
      "const         17.3997      8.623      2.018      0.052      -0.143      34.943\n",
      "x1             0.1068      0.008     12.900      0.000       0.090       0.124\n",
      "==============================================================================\n",
      "Omnibus:                        0.590   Durbin-Watson:                   0.670\n",
      "Prob(Omnibus):                  0.745   Jarque-Bera (JB):                0.688\n",
      "Skew:                           0.157   Prob(JB):                        0.709\n",
      "Kurtosis:                       2.389   Cond. No.                     2.24e+03\n",
      "==============================================================================\n",
      "\n",
      "Notes:\n",
      "[1] Standard Errors assume that the covariance matrix of the errors is correctly specified.\n",
      "[2] The condition number is large, 2.24e+03. This might indicate that there are\n",
      "strong multicollinearity or other numerical problems.\n"
     ]
    }
   ],
   "source": [
    "\n",
    "import statsmodels.api as sm\n",
    "X_sm = sm.add_constant(X)  \n",
    "modelo_sm = sm.OLS(Y, X_sm).fit()\n",
    "\n",
    "# Summary \n",
    "print(modelo_sm.summary())"
   ]
  },
  {
   "cell_type": "markdown",
   "id": "5b8fe0f5",
   "metadata": {},
   "source": [
    "Verificar los supuestos:"
   ]
  },
  {
   "cell_type": "markdown",
   "id": "ff210c01",
   "metadata": {},
   "source": [
    "1.Normalidad (shapirto-test)"
   ]
  },
  {
   "cell_type": "code",
   "execution_count": 73,
   "id": "a3224841",
   "metadata": {},
   "outputs": [
    {
     "name": "stdout",
     "output_type": "stream",
     "text": [
      "\n",
      "Shapiro-Wilk Test: Statistic=0.9729, p-value=0.5273\n"
     ]
    }
   ],
   "source": [
    "from scipy.stats import shapiro\n",
    "\n",
    "shapiro_test = shapiro(residuos)\n",
    "print(f\"\\nShapiro-Wilk Test: Statistic={shapiro_test.statistic:.4f}, p-value={shapiro_test.pvalue:.4f}\")"
   ]
  },
  {
   "cell_type": "markdown",
   "id": "76f2fb04",
   "metadata": {},
   "source": [
    "2.Igualdad de varianzas o homocedasticidad"
   ]
  },
  {
   "cell_type": "code",
   "execution_count": 74,
   "id": "0c20b05e",
   "metadata": {},
   "outputs": [
    {
     "name": "stdout",
     "output_type": "stream",
     "text": [
      "\n",
      "Breusch-Pagan Test: LM Statistic=11.2282, p-value=0.0008\n"
     ]
    }
   ],
   "source": [
    "import statsmodels.api as sm\n",
    "from statsmodels.stats.diagnostic import het_breuschpagan\n",
    "\n",
    "X_with_const = sm.add_constant(x_datos)\n",
    "bp_test = het_breuschpagan(residuos, X_with_const)\n",
    "print(f\"\\nBreusch-Pagan Test: LM Statistic={bp_test[0]:.4f}, p-value={bp_test[1]:.4f}\")"
   ]
  },
  {
   "cell_type": "markdown",
   "id": "f3e6c35d",
   "metadata": {},
   "source": [
    "3.Indepencia (Durbin-wantson)"
   ]
  },
  {
   "cell_type": "code",
   "execution_count": 75,
   "id": "7afc530a",
   "metadata": {},
   "outputs": [
    {
     "name": "stdout",
     "output_type": "stream",
     "text": [
      "- Durbin-Watson: 0.6695\n",
      "\n",
      "Interpretación del estadístico Durbin-Watson:\n",
      "-> Posible autocorrelación POSITIVA en los residuos (valor < 1.5)\n"
     ]
    }
   ],
   "source": [
    "from statsmodels.stats.stattools import durbin_watson\n",
    "\n",
    "dw = durbin_watson(residuos)\n",
    "print(f\"- Durbin-Watson: {dw:.4f}\")\n",
    "\n",
    "print(\"\\nInterpretación del estadístico Durbin-Watson:\")\n",
    "if dw < 1.5:\n",
    "    print(\"-> Posible autocorrelación POSITIVA en los residuos (valor < 1.5)\")\n",
    "elif dw > 2.5:\n",
    "    print(\"-> Posible autocorrelación NEGATIVA en los residuos (valor > 2.5)\")\n",
    "else:\n",
    "    print(\"-> No hay evidencia de autocorrelación (valor cercano a 2)\")"
   ]
  },
  {
   "cell_type": "markdown",
   "id": "4abbc14a",
   "metadata": {},
   "source": [
    "4.Coeficiente de correlacion  de Pearson"
   ]
  },
  {
   "cell_type": "code",
   "execution_count": 76,
   "id": "b1b5cddb",
   "metadata": {},
   "outputs": [
    {
     "name": "stdout",
     "output_type": "stream",
     "text": [
      "Coeficiente de correlación: 0.9135\n"
     ]
    }
   ],
   "source": [
    "correlacion = df['circumference'].corr(df['Column1'])\n",
    "print(f\"Coeficiente de correlación: {correlacion:.4f}\")"
   ]
  },
  {
   "cell_type": "markdown",
   "id": "4c872300",
   "metadata": {},
   "source": [
    "5.Coeficiente de determinación"
   ]
  },
  {
   "cell_type": "code",
   "execution_count": 77,
   "id": "9ff8071b",
   "metadata": {},
   "outputs": [
    {
     "name": "stdout",
     "output_type": "stream",
     "text": [
      "R²: 0.8345\n"
     ]
    }
   ],
   "source": [
    "R2= correlacion**2\n",
    "print(f\"R²: {R2:.4f}\")"
   ]
  }
 ],
 "metadata": {
  "kernelspec": {
   "display_name": "Python 3",
   "language": "python",
   "name": "python3"
  },
  "language_info": {
   "codemirror_mode": {
    "name": "ipython",
    "version": 3
   },
   "file_extension": ".py",
   "mimetype": "text/x-python",
   "name": "python",
   "nbconvert_exporter": "python",
   "pygments_lexer": "ipython3",
   "version": "3.13.2"
  }
 },
 "nbformat": 4,
 "nbformat_minor": 5
}
